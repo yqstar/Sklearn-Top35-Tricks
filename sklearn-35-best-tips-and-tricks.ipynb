{
 "cells": [
  {
   "cell_type": "markdown",
   "execution_count": null,
   "metadata": {},
   "source": [
    "# Welcome to this Kernel\n",
    "\n",
    "## *** This kernel is a compilation of tricks of sklearn published by Kevin Markham weekly.***\n",
    "\n",
    "You can find the original tricks and tips on the GitHub repo:\n",
    "\n",
    "https://github.com/justmarkham/scikit-learn-tips\n",
    "\n",
    "\n",
    "## *** This kernel is under construction. I will be updating it regularly.***"
   ]
  },
  {
   "cell_type": "markdown",
   "execution_count": null,
   "metadata": {},
   "source": [
    "<a id = \"table_of_contents\"></a>\n",
    "# Table of contents\n",
    "\n",
    "[Importing libraries and setting some helper functions](#Imports)\n",
    "\n",
    "[Trick 35: Passing a df directly to sklearn](#trick35)\n",
    "\n",
    "[Trick 34: Feature selection with Pipeline](#trick34)\n",
    "\n",
    "[Trick 33: Using custom and existing function in a ColumnTransformer](#trick33)\n",
    "\n",
    "[Trick 32: Area Under Curve (AUC) for binary classification: ovo and ovr strategies](#trick32)\n",
    "\n",
    "[Trick 31: Shuffle when using cross_val_score](#trick31)\n",
    "\n",
    "[Trick 30: Four ways of displaying the model coefficients](#trick30)\n",
    "\n",
    "[Trick 29: Vectorize two text columns using ColumnTransformer](#trick29)\n",
    "\n",
    "[Trick 28: Save a model of pipeline using joblib](#trick28)\n",
    "\n",
    "[Trick 27: Imputing missing values for categorical values](#trick27)\n",
    "\n",
    "[Trick 26: Use of stratify when performing classification problems](#trick26)\n",
    "\n",
    "[Trick 25: Prunning decision trees (new in 0.22 and above).](#trick25)\n",
    "\n",
    "[Trick 24: Plotting the decision tree with sklearn (new in 0.21 and above)](#trick24)\n",
    "\n",
    "[Trick 23: Display the intercept & coefficients for a liner model](#trick23)\n",
    "\n",
    "[Trick 22: Two types of Pipelines](#trick22)\n",
    "\n",
    "[Trick 21: Several ROC curves in a single plot (new in sklearn 0.22)](#trick21)\n",
    "\n",
    "[Trick 20: Plot confusion matrix (new in sklearn 0.22)](#trick20)\n",
    "\n",
    "[Trick 19: Most important parameters of a LogisticRegression](#trick19)\n",
    "\n",
    "[Trick 18: Convert your GridSearchCV or RandomizedGridSearch results into a pandas DataFrame](#trick18)\n",
    "\n",
    "[Trick 17: RandomizedGridSearch](#trick17)\n",
    "\n",
    "[Trick 16: Crossvalidate and gridsearch a sklearn pipeline](#trick16)\n",
    "\n",
    "[Trick 15: OneHotEncoder: tips using it](#trick15)\n",
    "\n",
    "[Trick 14: Handling missing values](#trick14)\n",
    "\n",
    "[Trick 13: Examine each step of a Pipeline](#trick13)\n",
    "\n",
    "[Trick 12: Difference between Pipeline and make_pipeline](#trick12)\n",
    "\n",
    "[Trick 11: KNNImputer](#trick11)\n",
    "\n",
    "[Trick 10: Using random_state to reproduce results](#trick10)\n",
    "\n",
    "[Trick 9: Using missing values as a feature: SimpleImputer & add_indicator = True](#trick9)\n",
    "\n",
    "[Trick 8: Using make_pipeline in a ML project](#trick8)\n",
    "\n",
    "[Trick 7: Handle new data while using OneHotEncoder](#trick7)\n",
    "\n",
    "[Trick 6: Common ways to encode categorical features: OneHotEncoder, OrdinalEncoder](#trick6)\n",
    "\n",
    "[Trick 5: Benefits of using sklearn for preprocessing and not pandas](#trick5)\n",
    "\n",
    "[Trick 4: When to use fit_transform and transform methods](#trick4)\n",
    "\n",
    "[Trick 3: Difference between fit and transform method](#trick3)\n",
    "\n",
    "[Trick 2: Seven ways to select columns using ColumnsTransformer](#trick2)\n",
    "\n",
    "[Trick 1: Using column selector to transform different columns](#trick1)\n"
   ]
  },
  {
   "cell_type": "markdown",
   "execution_count": null,
   "metadata": {},
   "source": [
    "<a id = \"Imports\"></a>\n",
    "# Importing libraries and setting some helper functions\n",
    "[Go back to the Table of Contents](#table_of_contents)"
   ]
  },
  {
   "cell_type": "code",
   "execution_count": 1,
   "metadata": {},
   "outputs": [
    {
     "name": "stdout",
     "output_type": "stream",
     "text": [
      "/kaggle/input/logisticregression/LogisticRegression.jpg\n",
      "/kaggle/input/titanic/train.csv\n",
      "/kaggle/input/titanic/gender_submission.csv\n",
      "/kaggle/input/titanic/test.csv\n",
      "/kaggle/input/roc-curve/ROC Curve.jpeg\n"
     ]
    }
   ],
   "source": [
    "# basic libraries\n",
    "import os\n",
    "import numpy as np\n",
    "import pandas as pd\n",
    "import matplotlib.pyplot as plt\n",
    "%matplotlib inline\n",
    "from IPython.display import Image\n",
    "\n",
    "# this will allow us to print all the files as we generate more in the kernel\n",
    "def print_files(directory = \"output\"):\n",
    "    if directory.lower() == \"input\":\n",
    "        for dirname, _, filenames in os.walk('/kaggle/input'):\n",
    "            for filename in filenames:\n",
    "                print(os.path.join(dirname, filename))\n",
    "    else:\n",
    "        for dirname, _, filenames in os.walk('/kaggle/working'):\n",
    "            for filename in filenames:\n",
    "                print(os.path.join(dirname, filename))\n",
    "\n",
    "# check Trick 91 for an example\n",
    "def generate_sample_data(): # creates a fake df for testing\n",
    "    number_or_rows = 20\n",
    "    num_cols = 7\n",
    "    cols = list(\"ABCDEFG\")\n",
    "    df = pd.DataFrame(np.random.randint(1, 20, size = (number_or_rows, num_cols)), columns=cols)\n",
    "    df.index = pd.util.testing.makeIntIndex(number_or_rows)\n",
    "    return df\n",
    "\n",
    "# check Trick 91 for an example\n",
    "def generate_sample_data_datetime(): # creates a fake df for testing\n",
    "    number_or_rows = 365*24\n",
    "    num_cols = 2\n",
    "    cols = [\"sales\", \"customers\"]\n",
    "    df = pd.DataFrame(np.random.randint(1, 20, size = (number_or_rows, num_cols)), columns=cols)\n",
    "    df.index = pd.util.testing.makeDateIndex(number_or_rows, freq=\"H\")\n",
    "    return df\n",
    "\n",
    "# show several prints in one cell. This will allow us to condence every trick in one cell.\n",
    "from IPython.core.interactiveshell import InteractiveShell\n",
    "InteractiveShell.ast_node_interactivity = \"all\"\n",
    "\n",
    "print_files(\"input\")"
   ]
  },
  {
   "cell_type": "markdown",
   "execution_count": null,
   "metadata": {},
   "source": [
    "<a id = \"trick35\"></a>\n",
    "# Trick 35: Passing a df directly to sklearn\n",
    "[Go back to the Table of Contents](#table_of_contents)"
   ]
  },
  {
   "cell_type": "code",
   "execution_count": 2,
   "metadata": {},
   "outputs": [
    {
     "name": "stdout",
     "output_type": "stream",
     "text": [
      "<class 'pandas.core.frame.DataFrame'>\n",
      "<class 'pandas.core.series.Series'>\n"
     ]
    },
    {
     "data": {
      "text/plain": [
       "LogisticRegression(C=1.0, class_weight=None, dual=False, fit_intercept=True,\n",
       "                   intercept_scaling=1, l1_ratio=None, max_iter=100,\n",
       "                   multi_class='auto', n_jobs=None, penalty='l2',\n",
       "                   random_state=None, solver='lbfgs', tol=0.0001, verbose=0,\n",
       "                   warm_start=False)"
      ]
     },
     "execution_count": 2,
     "metadata": {},
     "output_type": "execute_result"
    }
   ],
   "source": [
    "# We don't need to use .values when passing a df or a pandas series to sklearn\n",
    "# It knows internally how to acess the values and deal with them\n",
    "\n",
    "#------------------------------------------------------------\n",
    "# import libraries\n",
    "from sklearn.linear_model import LogisticRegression\n",
    "\n",
    "#------------------------------------------------------------\n",
    "# get the data\n",
    "df = pd.read_csv(\"/kaggle/input/titanic/train.csv\")\n",
    "X = df[['Pclass', 'Fare']]\n",
    "y = df[\"Survived\"]\n",
    "\n",
    "#------------------------------------------------------------\n",
    "# check the X and y types\n",
    "print(type(X))\n",
    "print(type(y))\n",
    "\n",
    "#------------------------------------------------------------\n",
    "# instanciate our classes\n",
    "model = LogisticRegression()\n",
    "\n",
    "# we fit directly a df and a series and sklearn deals with the rest\n",
    "model.fit(X, y)"
   ]
  },
  {
   "cell_type": "markdown",
   "execution_count": null,
   "metadata": {},
   "source": [
    "<a id = \"trick34\"></a>\n",
    "# Trick 34: Feature selection with Pipeline\n",
    "[Go back to the Table of Contents](#table_of_contents)"
   ]
  },
  {
   "cell_type": "code",
   "execution_count": 3,
   "metadata": {},
   "outputs": [
    {
     "name": "stdout",
     "output_type": "stream",
     "text": [
      "Score of pipeline without feature selection is 0.7957190383528967\n",
      "Score of pipeline with feature selection is 0.8147824995292197\n"
     ]
    }
   ],
   "source": [
    "#------------------------------------------------------------\n",
    "# import libraries\n",
    "from sklearn.feature_extraction.text import CountVectorizer\n",
    "from sklearn.linear_model import LogisticRegression\n",
    "from sklearn.pipeline import make_pipeline\n",
    "from sklearn.model_selection import cross_val_score\n",
    "from sklearn.feature_selection import SelectPercentile, chi2\n",
    "\n",
    "#------------------------------------------------------------\n",
    "# get the data\n",
    "df = pd.read_csv(\"/kaggle/input/titanic/train.csv\")\n",
    "X = df[\"Name\"]\n",
    "y = df[\"Survived\"]\n",
    "\n",
    "#------------------------------------------------------------\n",
    "# instanciate our classes\n",
    "vectorizer = CountVectorizer()\n",
    "model = LogisticRegression()\n",
    "\n",
    "#------------------------------------------------------------\n",
    "# make the pipeline without feature selection\n",
    "pipe = make_pipeline(vectorizer, model)\n",
    "score = cross_val_score(pipe, X, y, scoring = 'accuracy').mean()\n",
    "print(\"Score of pipeline without feature selection is {}\".format(score))\n",
    "\n",
    "#------------------------------------------------------------\n",
    "# make the pipeline without feature selection\n",
    "\n",
    "# keep 50% of features with the best chi-squared scores\n",
    "selection = SelectPercentile(chi2, percentile = 50)\n",
    "\n",
    "# add the selection after preprocessing but before model\n",
    "pipe = make_pipeline(vectorizer, selection, model)\n",
    "score = cross_val_score(pipe, X, y, scoring = 'accuracy').mean()\n",
    "print(\"Score of pipeline with feature selection is {}\".format(score))"
   ]
  },
  {
   "cell_type": "markdown",
   "execution_count": null,
   "metadata": {},
   "source": [
    "<a id = \"trick33\"></a>\n",
    "# Trick 33: Using custom and existing function in a ColumnTransformer\n",
    "[Go back to the Table of Contents](#table_of_contents)"
   ]
  },
  {
   "cell_type": "code",
   "execution_count": 4,
   "metadata": {},
   "outputs": [
    {
     "name": "stdout",
     "output_type": "stream",
     "text": [
      "Original X\n"
     ]
    },
    {
     "data": {
      "text/html": [
       "<div>\n",
       "<style scoped>\n",
       "    .dataframe tbody tr th:only-of-type {\n",
       "        vertical-align: middle;\n",
       "    }\n",
       "\n",
       "    .dataframe tbody tr th {\n",
       "        vertical-align: top;\n",
       "    }\n",
       "\n",
       "    .dataframe thead th {\n",
       "        text-align: right;\n",
       "    }\n",
       "</style>\n",
       "<table border=\"1\" class=\"dataframe\">\n",
       "  <thead>\n",
       "    <tr style=\"text-align: right;\">\n",
       "      <th></th>\n",
       "      <th>Fare</th>\n",
       "      <th>Code</th>\n",
       "      <th>Deck</th>\n",
       "    </tr>\n",
       "  </thead>\n",
       "  <tbody>\n",
       "    <tr>\n",
       "      <th>0</th>\n",
       "      <td>200</td>\n",
       "      <td>X12</td>\n",
       "      <td>A101</td>\n",
       "    </tr>\n",
       "    <tr>\n",
       "      <th>1</th>\n",
       "      <td>300</td>\n",
       "      <td>Y20</td>\n",
       "      <td>C102</td>\n",
       "    </tr>\n",
       "    <tr>\n",
       "      <th>2</th>\n",
       "      <td>50</td>\n",
       "      <td>Z7</td>\n",
       "      <td>A200</td>\n",
       "    </tr>\n",
       "    <tr>\n",
       "      <th>3</th>\n",
       "      <td>900</td>\n",
       "      <td>NaN</td>\n",
       "      <td>C300</td>\n",
       "    </tr>\n",
       "  </tbody>\n",
       "</table>\n",
       "</div>"
      ],
      "text/plain": [
       "   Fare Code  Deck\n",
       "0   200  X12  A101\n",
       "1   300  Y20  C102\n",
       "2    50   Z7  A200\n",
       "3   900  NaN  C300"
      ]
     },
     "execution_count": 4,
     "metadata": {},
     "output_type": "execute_result"
    },
    {
     "name": "stdout",
     "output_type": "stream",
     "text": [
      "Modified X\n"
     ]
    },
    {
     "data": {
      "text/plain": [
       "array([[200, 'X', 'A'],\n",
       "       [300, 'Y', 'C'],\n",
       "       [100, 'Z', 'A'],\n",
       "       [600, nan, 'C']], dtype=object)"
      ]
     },
     "execution_count": 4,
     "metadata": {},
     "output_type": "execute_result"
    }
   ],
   "source": [
    "#------------------------------------------------------------\n",
    "# import libraries\n",
    "from sklearn.compose import make_column_transformer\n",
    "from sklearn.preprocessing import FunctionTransformer\n",
    "\n",
    "#------------------------------------------------------------\n",
    "# get some data\n",
    "X = pd.DataFrame({'Fare':[200, 300, 50, 900],\n",
    "                  'Code':['X12', 'Y20', 'Z7', np.nan],\n",
    "                  'Deck':['A101', 'C102', 'A200', 'C300']})\n",
    "\n",
    "#------------------------------------------------------------\n",
    "# use an existing column and make the function compatible with Pipeline\n",
    "clip_values = FunctionTransformer(np.clip, kw_args={'a_min':100, 'a_max':600})\n",
    "\n",
    "#------------------------------------------------------------\n",
    "# create a custom function\n",
    "def first_letter(string_column):\n",
    "    return string_column.apply(lambda x: x.str.slice(0, 1))\n",
    "\n",
    "# now use FunctionTransformer to make the function compatible with Pipeline\n",
    "get_first_letter = FunctionTransformer(first_letter)\n",
    "\n",
    "#------------------------------------------------------------\n",
    "# create the column Transformer\n",
    "ct = make_column_transformer(\n",
    "    (clip_values, ['Fare']),\n",
    "    (get_first_letter, ['Code', 'Deck']))\n",
    "\n",
    "#------------------------------------------------------------\n",
    "# Original X\n",
    "print(\"Original X\")\n",
    "X\n",
    "\n",
    "#------------------------------------------------------------\n",
    "# Modified X\n",
    "print(\"Modified X\")\n",
    "ct.fit_transform(X)"
   ]
  },
  {
   "cell_type": "markdown",
   "execution_count": null,
   "metadata": {},
   "source": [
    "<a id = \"trick32\"></a>\n",
    "# Trick 32: Area Under Curve (AUC) for binary classification: ovo and ovr strategies\n",
    "[Go back to the Table of Contents](#table_of_contents)"
   ]
  },
  {
   "cell_type": "code",
   "execution_count": 5,
   "metadata": {},
   "outputs": [
    {
     "name": "stdout",
     "output_type": "stream",
     "text": [
      "roc_auc_score is 0.9399801587301587 for one vs one strategy with train test split\n",
      "roc_auc_score is 0.9484053018535777 for one vs rest strategy with train test split\n",
      "-----------------------------------------\n",
      "cross_val_score is 0.9086960878627546 for one vs one strategy with cross validation\n",
      "cross_val_score is 0.9123529143963927 for one vs rest strategy with cross validation\n"
     ]
    }
   ],
   "source": [
    "#------------------------------------------------------------\n",
    "# import libraries\n",
    "from sklearn.datasets import load_wine\n",
    "from sklearn.linear_model import LogisticRegression\n",
    "from sklearn.model_selection import train_test_split\n",
    "from sklearn.metrics import roc_auc_score\n",
    "from sklearn.model_selection import cross_val_score\n",
    "\n",
    "# get X and y for classification\n",
    "X, y = load_wine(return_X_y=True)\n",
    "\n",
    "# select only a few features\n",
    "X = X[:, 0:2]\n",
    "\n",
    "# instanciate the model for regression\n",
    "model_clf = LogisticRegression()\n",
    "\n",
    "# Multiclass AUC with train/test split\n",
    "X_train, X_test, y_train, y_test = train_test_split(X, y, random_state=0)\n",
    "model_clf.fit(X_train, y_train)\n",
    "y_score = model_clf.predict_proba(X_test)\n",
    "\n",
    "# use 'ovo' (One-vs-One) or 'ovr' (One-vs-Rest)\n",
    "print(\"roc_auc_score is {} for one vs one strategy with train test split\".format(roc_auc_score(y_test, y_score, multi_class = 'ovo')))\n",
    "print(\"roc_auc_score is {} for one vs rest strategy with train test split\".format(roc_auc_score(y_test, y_score, multi_class = 'ovr')))\n",
    "print(\"-----------------------------------------\")\n",
    "\n",
    "# Multiclass AUC with cross-validation\n",
    "# use 'roc_auc_ovo' (One-vs-One) or 'roc_auc_ovr' (One-vs-Rest)\n",
    "print(\"cross_val_score is {} for one vs one strategy with cross validation\".format(cross_val_score(model_clf, X, y, cv = 5, scoring = 'roc_auc_ovo').mean()))\n",
    "print(\"cross_val_score is {} for one vs rest strategy with cross validation\".format(cross_val_score(model_clf, X, y, cv = 5, scoring = 'roc_auc_ovr').mean()));"
   ]
  },
  {
   "cell_type": "markdown",
   "execution_count": null,
   "metadata": {},
   "source": [
    "<a id = \"trick31\"></a>\n",
    "# Trick 31: Shuffle when using cross_val_score\n",
    "[Go back to the Table of Contents](#table_of_contents)"
   ]
  },
  {
   "cell_type": "code",
   "execution_count": 6,
   "metadata": {},
   "outputs": [
    {
     "name": "stdout",
     "output_type": "stream",
     "text": [
      "cross_val_score for regression model\n"
     ]
    },
    {
     "data": {
      "text/plain": [
       "array([0.43843604, 0.38982527, 0.52792606, 0.47359858, 0.57449343])"
      ]
     },
     "execution_count": 6,
     "metadata": {},
     "output_type": "execute_result"
    },
    {
     "name": "stdout",
     "output_type": "stream",
     "text": [
      "cross_val_score for classification model\n"
     ]
    },
    {
     "name": "stderr",
     "output_type": "stream",
     "text": [
      "/opt/conda/lib/python3.6/site-packages/sklearn/utils/validation.py:760: DataConversionWarning: A column-vector y was passed when a 1d array was expected. Please change the shape of y to (n_samples, ), for example using ravel().\n",
      "  y = column_or_1d(y, warn=True)\n",
      "/opt/conda/lib/python3.6/site-packages/sklearn/utils/validation.py:760: DataConversionWarning: A column-vector y was passed when a 1d array was expected. Please change the shape of y to (n_samples, ), for example using ravel().\n",
      "  y = column_or_1d(y, warn=True)\n",
      "/opt/conda/lib/python3.6/site-packages/sklearn/utils/validation.py:760: DataConversionWarning: A column-vector y was passed when a 1d array was expected. Please change the shape of y to (n_samples, ), for example using ravel().\n",
      "  y = column_or_1d(y, warn=True)\n",
      "/opt/conda/lib/python3.6/site-packages/sklearn/utils/validation.py:760: DataConversionWarning: A column-vector y was passed when a 1d array was expected. Please change the shape of y to (n_samples, ), for example using ravel().\n",
      "  y = column_or_1d(y, warn=True)\n",
      "/opt/conda/lib/python3.6/site-packages/sklearn/utils/validation.py:760: DataConversionWarning: A column-vector y was passed when a 1d array was expected. Please change the shape of y to (n_samples, ), for example using ravel().\n",
      "  y = column_or_1d(y, warn=True)\n"
     ]
    },
    {
     "data": {
      "text/plain": [
       "array([0.65363128, 0.7247191 , 0.66853933, 0.68539326, 0.65730337])"
      ]
     },
     "execution_count": 6,
     "metadata": {},
     "output_type": "execute_result"
    }
   ],
   "source": [
    "#------------------------------------------------------------\n",
    "# import libraries\n",
    "from sklearn.datasets import load_diabetes\n",
    "from sklearn.linear_model import LinearRegression, LogisticRegression\n",
    "from sklearn.model_selection import cross_val_score\n",
    "from sklearn.model_selection import KFold, StratifiedKFold\n",
    "\n",
    "# get X and y for regression\n",
    "X_reg, y_reg = load_diabetes(return_X_y = True)\n",
    "\n",
    "# get X and y for classification\n",
    "df = pd.read_csv(\"/kaggle/input/titanic/train.csv\", usecols = ['Pclass', 'Fare', 'SibSp', 'Survived']).dropna()\n",
    "\n",
    "# separate X and y\n",
    "X_clf = df[['Pclass', 'Fare', 'SibSp']]\n",
    "y_clf = df[[\"Survived\"]]\n",
    "\n",
    "# instanciate the model for regression\n",
    "model_reg = LinearRegression()\n",
    "\n",
    "# instanciate the model for classification\n",
    "model_clf = LogisticRegression()\n",
    "\n",
    "# Use KFold for regression\n",
    "kf = KFold(5, shuffle = True, random_state = 1)\n",
    "print(\"cross_val_score for regression model\")\n",
    "cross_val_score(model_reg, # the regression model, in our case, LinearRegression\n",
    "                X_reg, # X: features to learn from\n",
    "                y_reg, # y: what the predict\n",
    "                cv = kf, # cross_validation scheme we have created earlier\n",
    "                scoring = \"r2\") # metric to use to validate the quality of the model\n",
    "\n",
    "# Use StratifiedKFold for classification\n",
    "skf = StratifiedKFold(5, shuffle = True, random_state = 1)\n",
    "print(\"cross_val_score for classification model\")\n",
    "cross_val_score(model_clf, # the model, in our case, LogisticRegression\n",
    "                X_clf, # X: features to learn from\n",
    "                y_clf, # y: what the predict\n",
    "                cv = skf, # cross_validation scheme we have created earlier\n",
    "                scoring = \"accuracy\") # metric to use to validate the quality of the model"
   ]
  },
  {
   "cell_type": "markdown",
   "execution_count": null,
   "metadata": {},
   "source": [
    "<a id = \"trick30\"></a>\n",
    "# Trick 30: Four ways of displaying the model coefficients\n",
    "[Go back to the Table of Contents](#table_of_contents)"
   ]
  },
  {
   "cell_type": "code",
   "execution_count": 7,
   "metadata": {},
   "outputs": [
    {
     "name": "stderr",
     "output_type": "stream",
     "text": [
      "/opt/conda/lib/python3.6/site-packages/sklearn/utils/validation.py:760: DataConversionWarning: A column-vector y was passed when a 1d array was expected. Please change the shape of y to (n_samples, ), for example using ravel().\n",
      "  y = column_or_1d(y, warn=True)\n"
     ]
    },
    {
     "data": {
      "text/plain": [
       "Pipeline(memory=None,\n",
       "         steps=[('ohe',\n",
       "                 OneHotEncoder(categories='auto', drop=None,\n",
       "                               dtype=<class 'numpy.float64'>,\n",
       "                               handle_unknown='error', sparse=True)),\n",
       "                ('clf',\n",
       "                 LogisticRegression(C=1.0, class_weight=None, dual=False,\n",
       "                                    fit_intercept=True, intercept_scaling=1,\n",
       "                                    l1_ratio=None, max_iter=100,\n",
       "                                    multi_class='auto', n_jobs=None,\n",
       "                                    penalty='l2', random_state=None,\n",
       "                                    solver='lbfgs', tol=0.0001, verbose=0,\n",
       "                                    warm_start=False))],\n",
       "         verbose=False)"
      ]
     },
     "execution_count": 7,
     "metadata": {},
     "output_type": "execute_result"
    },
    {
     "name": "stdout",
     "output_type": "stream",
     "text": [
      "1 way to show model coefficients\n"
     ]
    },
    {
     "data": {
      "text/plain": [
       "array([[ 0.5072001 , -0.13716737, -0.37001877]])"
      ]
     },
     "execution_count": 7,
     "metadata": {},
     "output_type": "execute_result"
    },
    {
     "name": "stdout",
     "output_type": "stream",
     "text": [
      "2 way to show model coefficients\n"
     ]
    },
    {
     "data": {
      "text/plain": [
       "array([[ 0.5072001 , -0.13716737, -0.37001877]])"
      ]
     },
     "execution_count": 7,
     "metadata": {},
     "output_type": "execute_result"
    },
    {
     "name": "stdout",
     "output_type": "stream",
     "text": [
      "3 way to show model coefficients\n"
     ]
    },
    {
     "data": {
      "text/plain": [
       "array([[ 0.5072001 , -0.13716737, -0.37001877]])"
      ]
     },
     "execution_count": 7,
     "metadata": {},
     "output_type": "execute_result"
    },
    {
     "name": "stdout",
     "output_type": "stream",
     "text": [
      "4 way to show model coefficients\n"
     ]
    },
    {
     "data": {
      "text/plain": [
       "array([[ 0.5072001 , -0.13716737, -0.37001877]])"
      ]
     },
     "execution_count": 7,
     "metadata": {},
     "output_type": "execute_result"
    }
   ],
   "source": [
    "#------------------------------------------------------------\n",
    "# import libraries\n",
    "from sklearn.linear_model import LogisticRegression\n",
    "from sklearn.preprocessing import OneHotEncoder\n",
    "from sklearn.pipeline import Pipeline\n",
    "\n",
    "#------------------------------------------------------------\n",
    "# instanciate the classes\n",
    "ohe = OneHotEncoder()\n",
    "model = LogisticRegression()\n",
    "\n",
    "#------------------------------------------------------------\n",
    "# get the data\n",
    "df = pd.read_csv(\"/kaggle/input/titanic/train.csv\", usecols = ['Embarked', 'Survived']).dropna()\n",
    "\n",
    "# separate X and y\n",
    "X = df[[\"Embarked\"]]\n",
    "y = df[[\"Survived\"]]\n",
    "\n",
    "# create a pipeline and fit the X and y\n",
    "pipe = Pipeline([(\"ohe\", ohe),\n",
    "                 (\"clf\", model)])\n",
    "pipe.fit(X, y)\n",
    "\n",
    "# inspect the coefficients\n",
    "print(\"1 way to show model coefficients\")\n",
    "pipe.named_steps.clf.coef_\n",
    "print(\"2 way to show model coefficients\")\n",
    "pipe.named_steps[\"clf\"].coef_\n",
    "print(\"3 way to show model coefficients\")\n",
    "pipe[\"clf\"].coef_\n",
    "print(\"4 way to show model coefficients\")\n",
    "pipe[1].coef_"
   ]
  },
  {
   "cell_type": "markdown",
   "execution_count": null,
   "metadata": {},
   "source": [
    "<a id = \"trick29\"></a>\n",
    "# Trick 29: Vectorize two text columns using ColumnTransformer\n",
    "[Go back to the Table of Contents](#table_of_contents)"
   ]
  },
  {
   "cell_type": "code",
   "execution_count": 8,
   "metadata": {},
   "outputs": [
    {
     "data": {
      "text/plain": [
       "<204x637 sparse matrix of type '<class 'numpy.longlong'>'\n",
       "\twith 1119 stored elements in Compressed Sparse Row format>"
      ]
     },
     "execution_count": 8,
     "metadata": {},
     "output_type": "execute_result"
    }
   ],
   "source": [
    "#------------------------------------------------------------\n",
    "# import libraries\n",
    "from sklearn.feature_extraction.text import CountVectorizer\n",
    "from sklearn.compose import make_column_transformer\n",
    "\n",
    "#------------------------------------------------------------\n",
    "# get train data\n",
    "df_train = pd.read_csv(\"/kaggle/input/titanic/train.csv\")\n",
    "\n",
    "# drop any nans\n",
    "X = df_train[[\"Name\", \"Cabin\"]].dropna()\n",
    "\n",
    "#------------------------------------------------------------\n",
    "# instanciate CountVectorizer\n",
    "count_vect = CountVectorizer()\n",
    "\n",
    "#------------------------------------------------------------\n",
    "# instanciate CountVectorizer\n",
    "# You can pass the CountVectorizer multiple times and it will learn\n",
    "# separate vocabularies.\n",
    "# to do so, you must use make_column_transformer\n",
    "ct = make_column_transformer((count_vect, 'Name'), (count_vect, 'Cabin'))\n",
    "X_transform = ct.fit_transform(X)\n",
    "X_transform"
   ]
  },
  {
   "cell_type": "markdown",
   "execution_count": null,
   "metadata": {},
   "source": [
    "<a id = \"trick28\"></a>\n",
    "# Trick 28: Save a model of pipeline using joblib\n",
    "[Go back to the Table of Contents](#table_of_contents)"
   ]
  },
  {
   "cell_type": "code",
   "execution_count": 9,
   "metadata": {},
   "outputs": [
    {
     "data": {
      "text/plain": [
       "Pipeline(memory=None,\n",
       "         steps=[('onehotencoder',\n",
       "                 OneHotEncoder(categories='auto', drop=None,\n",
       "                               dtype=<class 'numpy.float64'>,\n",
       "                               handle_unknown='error', sparse=True)),\n",
       "                ('logisticregression',\n",
       "                 LogisticRegression(C=1.0, class_weight=None, dual=False,\n",
       "                                    fit_intercept=True, intercept_scaling=1,\n",
       "                                    l1_ratio=None, max_iter=100,\n",
       "                                    multi_class='auto', n_jobs=None,\n",
       "                                    penalty='l2', random_state=None,\n",
       "                                    solver='lbfgs', tol=0.0001, verbose=0,\n",
       "                                    warm_start=False))],\n",
       "         verbose=False)"
      ]
     },
     "execution_count": 9,
     "metadata": {},
     "output_type": "execute_result"
    },
    {
     "data": {
      "text/plain": [
       "['pipe.joblib']"
      ]
     },
     "execution_count": 9,
     "metadata": {},
     "output_type": "execute_result"
    },
    {
     "name": "stdout",
     "output_type": "stream",
     "text": [
      "/kaggle/working/pipe.joblib\n",
      "/kaggle/working/__notebook__.ipynb\n",
      "------------\n",
      "Old pipe.\n"
     ]
    },
    {
     "data": {
      "text/plain": [
       "array([1, 1, 1, 1, 0, 1, 1, 1, 1, 0, 1, 0, 1, 1, 1, 1, 1, 1, 1, 1, 0, 1,\n",
       "       1, 1, 0, 1, 1, 1, 1, 1, 1, 1, 1, 1, 0, 1, 1, 1, 1, 1, 1, 1, 1, 1,\n",
       "       1, 0, 1, 1, 1, 1, 1, 1, 0, 1, 1, 1, 0, 0, 1, 0, 0, 1, 1, 1, 0, 1,\n",
       "       1, 0, 1, 1, 0, 1, 1, 1, 0, 1, 0, 0, 1, 1, 1, 1, 1, 1, 1, 1, 1])"
      ]
     },
     "execution_count": 9,
     "metadata": {},
     "output_type": "execute_result"
    },
    {
     "name": "stdout",
     "output_type": "stream",
     "text": [
      "------------\n",
      "Old pipe.\n"
     ]
    },
    {
     "data": {
      "text/plain": [
       "array([1, 1, 1, 1, 0, 1, 1, 1, 1, 0, 1, 0, 1, 1, 1, 1, 1, 1, 1, 1, 0, 1,\n",
       "       1, 1, 0, 1, 1, 1, 1, 1, 1, 1, 1, 1, 0, 1, 1, 1, 1, 1, 1, 1, 1, 1,\n",
       "       1, 0, 1, 1, 1, 1, 1, 1, 0, 1, 1, 1, 0, 0, 1, 0, 0, 1, 1, 1, 0, 1,\n",
       "       1, 0, 1, 1, 0, 1, 1, 1, 0, 1, 0, 0, 1, 1, 1, 1, 1, 1, 1, 1, 1])"
      ]
     },
     "execution_count": 9,
     "metadata": {},
     "output_type": "execute_result"
    },
    {
     "name": "stdout",
     "output_type": "stream",
     "text": [
      "Notice that both pipes predict the same result.\n"
     ]
    }
   ],
   "source": [
    "#------------------------------------------------------------\n",
    "# import libraries\n",
    "from sklearn.preprocessing import OneHotEncoder\n",
    "from sklearn.linear_model import LogisticRegression\n",
    "from sklearn.pipeline import make_pipeline\n",
    "import joblib\n",
    "\n",
    "#------------------------------------------------------------\n",
    "# get train data\n",
    "df_train = pd.read_csv(\"/kaggle/input/titanic/train.csv\")\n",
    "\n",
    "# drop any nans\n",
    "df_train.dropna(axis = \"rows\", inplace = True)\n",
    "\n",
    "# separate X and y\n",
    "cols_for_x = [\"Embarked\", \"Sex\"]\n",
    "X_train = df_train[cols_for_x]\n",
    "y_train = df_train[\"Survived\"]\n",
    "\n",
    "#------------------------------------------------------------\n",
    "# get test data\n",
    "df_test = pd.read_csv(\"/kaggle/input/titanic/test.csv\")\n",
    "\n",
    "# drop any nans\n",
    "df_test.dropna(axis = \"rows\", inplace = True)\n",
    "\n",
    "X_test = df_test[cols_for_x]\n",
    "\n",
    "#------------------------------------------------------------\n",
    "# instanciate Ohe and make_pipeline\n",
    "ohe = OneHotEncoder()\n",
    "model = LogisticRegression()\n",
    "\n",
    "#------------------------------------------------------------\n",
    "# create the pipeline\n",
    "pipe = make_pipeline(ohe, model)\n",
    "\n",
    "#------------------------------------------------------------\n",
    "# predict_using pipeline\n",
    "pipe.fit(X_train, y_train)\n",
    "\n",
    "#------------------------------------------------------------\n",
    "# save pipeline\n",
    "joblib.dump(pipe, 'pipe.joblib')\n",
    "\n",
    "# print our newly saved pipeline\n",
    "print_files()\n",
    "\n",
    "#------------------------------------------------------------\n",
    "# save pipeline\n",
    "new_pipe = joblib.load('/kaggle/working/pipe.joblib')\n",
    "\n",
    "#------------------------------------------------------------\n",
    "# predict using the same pipe and the old pipe\n",
    "print(\"------------\")\n",
    "print(\"Old pipe.\")\n",
    "pipe.predict(X_test)\n",
    "print(\"------------\")\n",
    "print(\"Old pipe.\")\n",
    "new_pipe.predict(X_test)\n",
    "print(\"Notice that both pipes predict the same result.\")"
   ]
  },
  {
   "cell_type": "markdown",
   "execution_count": null,
   "metadata": {},
   "source": [
    "<a id = \"trick27\"></a>\n",
    "# Trick 27: Imputing missing values for categorical values\n",
    "[Go back to the Table of Contents](#table_of_contents)"
   ]
  },
  {
   "cell_type": "code",
   "execution_count": 10,
   "metadata": {},
   "outputs": [
    {
     "data": {
      "text/html": [
       "<style  type=\"text/css\" >\n",
       "    #T_f4367c46_9cd9_11ea_ba3c_0242ac130202row5_col0 {\n",
       "            background:  lightgreen;\n",
       "        }    #T_f4367c46_9cd9_11ea_ba3c_0242ac130202row5_col1 {\n",
       "            background:  lightgreen;\n",
       "        }    #T_f4367c46_9cd9_11ea_ba3c_0242ac130202row5_col2 {\n",
       "            background:  lightgreen;\n",
       "        }</style><table id=\"T_f4367c46_9cd9_11ea_ba3c_0242ac130202\" ><thead>    <tr>        <th class=\"blank level0\" ></th>        <th class=\"col_heading level0 col0\" >Shape_Original</th>        <th class=\"col_heading level0 col1\" >most_frequent</th>        <th class=\"col_heading level0 col2\" >constant</th>    </tr></thead><tbody>\n",
       "                <tr>\n",
       "                        <th id=\"T_f4367c46_9cd9_11ea_ba3c_0242ac130202level0_row0\" class=\"row_heading level0 row0\" >0</th>\n",
       "                        <td id=\"T_f4367c46_9cd9_11ea_ba3c_0242ac130202row0_col0\" class=\"data row0 col0\" >square</td>\n",
       "                        <td id=\"T_f4367c46_9cd9_11ea_ba3c_0242ac130202row0_col1\" class=\"data row0 col1\" >square</td>\n",
       "                        <td id=\"T_f4367c46_9cd9_11ea_ba3c_0242ac130202row0_col2\" class=\"data row0 col2\" >square</td>\n",
       "            </tr>\n",
       "            <tr>\n",
       "                        <th id=\"T_f4367c46_9cd9_11ea_ba3c_0242ac130202level0_row1\" class=\"row_heading level0 row1\" >1</th>\n",
       "                        <td id=\"T_f4367c46_9cd9_11ea_ba3c_0242ac130202row1_col0\" class=\"data row1 col0\" >square</td>\n",
       "                        <td id=\"T_f4367c46_9cd9_11ea_ba3c_0242ac130202row1_col1\" class=\"data row1 col1\" >square</td>\n",
       "                        <td id=\"T_f4367c46_9cd9_11ea_ba3c_0242ac130202row1_col2\" class=\"data row1 col2\" >square</td>\n",
       "            </tr>\n",
       "            <tr>\n",
       "                        <th id=\"T_f4367c46_9cd9_11ea_ba3c_0242ac130202level0_row2\" class=\"row_heading level0 row2\" >2</th>\n",
       "                        <td id=\"T_f4367c46_9cd9_11ea_ba3c_0242ac130202row2_col0\" class=\"data row2 col0\" >square</td>\n",
       "                        <td id=\"T_f4367c46_9cd9_11ea_ba3c_0242ac130202row2_col1\" class=\"data row2 col1\" >square</td>\n",
       "                        <td id=\"T_f4367c46_9cd9_11ea_ba3c_0242ac130202row2_col2\" class=\"data row2 col2\" >square</td>\n",
       "            </tr>\n",
       "            <tr>\n",
       "                        <th id=\"T_f4367c46_9cd9_11ea_ba3c_0242ac130202level0_row3\" class=\"row_heading level0 row3\" >3</th>\n",
       "                        <td id=\"T_f4367c46_9cd9_11ea_ba3c_0242ac130202row3_col0\" class=\"data row3 col0\" >oval</td>\n",
       "                        <td id=\"T_f4367c46_9cd9_11ea_ba3c_0242ac130202row3_col1\" class=\"data row3 col1\" >oval</td>\n",
       "                        <td id=\"T_f4367c46_9cd9_11ea_ba3c_0242ac130202row3_col2\" class=\"data row3 col2\" >oval</td>\n",
       "            </tr>\n",
       "            <tr>\n",
       "                        <th id=\"T_f4367c46_9cd9_11ea_ba3c_0242ac130202level0_row4\" class=\"row_heading level0 row4\" >4</th>\n",
       "                        <td id=\"T_f4367c46_9cd9_11ea_ba3c_0242ac130202row4_col0\" class=\"data row4 col0\" >circle</td>\n",
       "                        <td id=\"T_f4367c46_9cd9_11ea_ba3c_0242ac130202row4_col1\" class=\"data row4 col1\" >circle</td>\n",
       "                        <td id=\"T_f4367c46_9cd9_11ea_ba3c_0242ac130202row4_col2\" class=\"data row4 col2\" >circle</td>\n",
       "            </tr>\n",
       "            <tr>\n",
       "                        <th id=\"T_f4367c46_9cd9_11ea_ba3c_0242ac130202level0_row5\" class=\"row_heading level0 row5\" >5</th>\n",
       "                        <td id=\"T_f4367c46_9cd9_11ea_ba3c_0242ac130202row5_col0\" class=\"data row5 col0\" >nan</td>\n",
       "                        <td id=\"T_f4367c46_9cd9_11ea_ba3c_0242ac130202row5_col1\" class=\"data row5 col1\" >square</td>\n",
       "                        <td id=\"T_f4367c46_9cd9_11ea_ba3c_0242ac130202row5_col2\" class=\"data row5 col2\" >missing</td>\n",
       "            </tr>\n",
       "    </tbody></table>"
      ],
      "text/plain": [
       "<pandas.io.formats.style.Styler at 0x7f4c58b6d940>"
      ]
     },
     "execution_count": 10,
     "metadata": {},
     "output_type": "execute_result"
    }
   ],
   "source": [
    "#------------------------------------------------------------\n",
    "# get some fake data\n",
    "d = {\"Shape_Original\":[\"square\", \"square\", \"square\", \"oval\", \"circle\", np.nan]}\n",
    "df = pd.DataFrame(d)\n",
    "\n",
    "#------------------------------------------------------------\n",
    "# import libraries\n",
    "from sklearn.impute import SimpleImputer\n",
    "\n",
    "#------------------------------------------------------------\n",
    "# impute values using most frequent\n",
    "df[\"most_frequent\"] = SimpleImputer(strategy = \"most_frequent\").fit_transform(df[[\"Shape_Original\"]])\n",
    "\n",
    "#------------------------------------------------------------\n",
    "# impute values using most constant\n",
    "df[\"constant\"]  = SimpleImputer(strategy = \"constant\", fill_value = \"missing\").fit_transform(df[[\"Shape_Original\"]])\n",
    "\n",
    "#------------------------------------------------------------\n",
    "# the result of our imputation\n",
    "df.style.apply(lambda x: ['background: lightgreen' if x.name == 5 else '' for i in x], axis=1)"
   ]
  },
  {
   "cell_type": "markdown",
   "execution_count": null,
   "metadata": {},
   "source": [
    "<a id = \"trick26\"></a>\n",
    "# Trick 26: Use of stratify when performing classification problems\n",
    "[Go back to the Table of Contents](#table_of_contents)"
   ]
  },
  {
   "cell_type": "code",
   "execution_count": 11,
   "metadata": {},
   "outputs": [
    {
     "name": "stdout",
     "output_type": "stream",
     "text": [
      "y_train withous stratify\n"
     ]
    },
    {
     "data": {
      "text/plain": [
       "0    not fraud\n",
       "4    not fraud\n",
       "3    not fraud\n",
       "5    not fraud\n",
       "Name: target, dtype: object"
      ]
     },
     "execution_count": 11,
     "metadata": {},
     "output_type": "execute_result"
    },
    {
     "name": "stdout",
     "output_type": "stream",
     "text": [
      "y_test withous stratify\n"
     ]
    },
    {
     "data": {
      "text/plain": [
       "7        fraud\n",
       "2    not fraud\n",
       "1    not fraud\n",
       "6        fraud\n",
       "Name: target, dtype: object"
      ]
     },
     "execution_count": 11,
     "metadata": {},
     "output_type": "execute_result"
    },
    {
     "name": "stdout",
     "output_type": "stream",
     "text": [
      "Notice how using statify preserves the fraud and not fraud percentage.\n",
      "y_train with stratify\n"
     ]
    },
    {
     "data": {
      "text/plain": [
       "1    not fraud\n",
       "2    not fraud\n",
       "6        fraud\n",
       "5    not fraud\n",
       "Name: target, dtype: object"
      ]
     },
     "execution_count": 11,
     "metadata": {},
     "output_type": "execute_result"
    },
    {
     "name": "stdout",
     "output_type": "stream",
     "text": [
      "y_test with stratify\n"
     ]
    },
    {
     "data": {
      "text/plain": [
       "4    not fraud\n",
       "3    not fraud\n",
       "7        fraud\n",
       "0    not fraud\n",
       "Name: target, dtype: object"
      ]
     },
     "execution_count": 11,
     "metadata": {},
     "output_type": "execute_result"
    }
   ],
   "source": [
    "#------------------------------------------------------------\n",
    "# import libraries\n",
    "from sklearn.model_selection import train_test_split\n",
    "\n",
    "#------------------------------------------------------------\n",
    "# generate some data and separate X and y\n",
    "df = pd.DataFrame({'feature':list(range(8)), 'target':['not fraud']*6 + ['fraud']*2})\n",
    "X = df[['feature']]\n",
    "y = df['target']\n",
    "\n",
    "#------------------------------------------------------------\n",
    "# train and test without stratify\n",
    "\n",
    "X_train, X_test, y_train, y_test = train_test_split(X, y, test_size = 0.5, random_state = 1)\n",
    "\n",
    "print(\"y_train withous stratify\")\n",
    "y_train\n",
    "print(\"y_test withous stratify\")\n",
    "y_test\n",
    "\n",
    "\n",
    "#------------------------------------------------------------\n",
    "# train and test with stratify\n",
    "\n",
    "X_train, X_test, y_train, y_test = train_test_split(X, y, test_size = 0.5, stratify = y, random_state = 1)\n",
    "\n",
    "print(\"Notice how using statify preserves the fraud and not fraud percentage.\")\n",
    "print(\"y_train with stratify\")\n",
    "y_train\n",
    "print(\"y_test with stratify\")\n",
    "y_test"
   ]
  },
  {
   "cell_type": "markdown",
   "execution_count": null,
   "metadata": {},
   "source": [
    "<a id = \"trick25\"></a>\n",
    "# Trick 25: Prunning decision trees (new in 0.22 and above).\n",
    "[Go back to the Table of Contents](#table_of_contents)"
   ]
  },
  {
   "cell_type": "code",
   "execution_count": 12,
   "metadata": {},
   "outputs": [
    {
     "name": "stdout",
     "output_type": "stream",
     "text": [
      "0.22.2.post1\n"
     ]
    },
    {
     "data": {
      "text/plain": [
       "DecisionTreeClassifier(ccp_alpha=0.0, class_weight=None, criterion='gini',\n",
       "                       max_depth=None, max_features=None, max_leaf_nodes=None,\n",
       "                       min_impurity_decrease=0.0, min_impurity_split=None,\n",
       "                       min_samples_leaf=1, min_samples_split=2,\n",
       "                       min_weight_fraction_leaf=0.0, presort='deprecated',\n",
       "                       random_state=175, splitter='best')"
      ]
     },
     "execution_count": 12,
     "metadata": {},
     "output_type": "execute_result"
    },
    {
     "name": "stdout",
     "output_type": "stream",
     "text": [
      "Our DecissionTree with 311 nodes has scored 0.8126294645659407\n"
     ]
    },
    {
     "data": {
      "text/plain": [
       "DecisionTreeClassifier(ccp_alpha=0.001, class_weight=None, criterion='gini',\n",
       "                       max_depth=None, max_features=None, max_leaf_nodes=None,\n",
       "                       min_impurity_decrease=0.0, min_impurity_split=None,\n",
       "                       min_samples_leaf=1, min_samples_split=2,\n",
       "                       min_weight_fraction_leaf=0.0, presort='deprecated',\n",
       "                       random_state=175, splitter='best')"
      ]
     },
     "execution_count": 12,
     "metadata": {},
     "output_type": "execute_result"
    },
    {
     "name": "stdout",
     "output_type": "stream",
     "text": [
      "Our prunned DecissionTree with 113 nodes has scored 0.8148578243675851\n"
     ]
    }
   ],
   "source": [
    "import sklearn\n",
    "print(sklearn.__version__)\n",
    "\n",
    "#------------------------------------------------------------\n",
    "# import libraries\n",
    "from sklearn.model_selection import cross_val_score\n",
    "from sklearn.tree import DecisionTreeClassifier\n",
    "\n",
    "#------------------------------------------------------------\n",
    "# import data\n",
    "df = pd.read_csv(\"/kaggle/input/titanic/train.csv\")\n",
    "df['Sex'] = df['Sex'].map({'male':0, 'female':1})\n",
    "X = df[[\"Pclass\", \"Fare\", \"Sex\"]]\n",
    "y = df[\"Survived\"]\n",
    "\n",
    "#------------------------------------------------------------\n",
    "# basic model and evaluation\n",
    "model = DecisionTreeClassifier(random_state = 175)\n",
    "model.fit(X, y)\n",
    "score = cross_val_score(model, X, y, scoring = \"accuracy\")\n",
    "print(\"Our DecissionTree with {} nodes has scored {}\".format(model.tree_.node_count, score.mean()))\n",
    "\n",
    "#------------------------------------------------------------\n",
    "# prun the tree and see cross validation score\n",
    "# Notice that the score went up. Prunnig trees has a lot of benefits, the main one is reducing overfitting.\n",
    "# ccp_alpha is the parameter that controls the decision tree complexity (cost complexity parameter).\n",
    "# Greater values of ccp_alpha increase the number of nodes pruned.\n",
    "# documentation \n",
    "# https://scikit-learn.org/stable/auto_examples/tree/plot_cost_complexity_pruning.html\n",
    "\n",
    "model = DecisionTreeClassifier(ccp_alpha = 0.001, random_state = 175)\n",
    "model.fit(X, y)\n",
    "score = cross_val_score(model, X, y, scoring = \"accuracy\")\n",
    "print(\"Our prunned DecissionTree with {} nodes has scored {}\".format(model.tree_.node_count, score.mean()))"
   ]
  },
  {
   "cell_type": "markdown",
   "execution_count": null,
   "metadata": {},
   "source": [
    "<a id = \"trick24\"></a>\n",
    "# Trick 24: Plotting the decision tree with sklearn (new in 0.21 and above).\n",
    "[Go back to the Table of Contents](#table_of_contents)"
   ]
  },
  {
   "cell_type": "code",
   "execution_count": 13,
   "metadata": {},
   "outputs": [
    {
     "name": "stdout",
     "output_type": "stream",
     "text": [
      "0.22.2.post1\n"
     ]
    },
    {
     "data": {
      "image/png": "[encoded data removed]",
      "text/plain": [
       "<Figure size 1440x720 with 1 Axes>"
      ]
     },
     "metadata": {
      "needs_background": "light"
     },
     "output_type": "display_data"
    }
   ],
   "source": [
    "import sklearn\n",
    "print(sklearn.__version__)\n",
    "\n",
    "#------------------------------------------------------------\n",
    "# import libraries\n",
    "from sklearn.model_selection import train_test_split\n",
    "from sklearn.metrics import plot_confusion_matrix\n",
    "from sklearn.tree import DecisionTreeClassifier, plot_tree, export_text\n",
    "\n",
    "#------------------------------------------------------------\n",
    "# create our instances\n",
    "model = DecisionTreeClassifier()\n",
    "\n",
    "#------------------------------------------------------------\n",
    "# import data\n",
    "df = pd.read_csv(\"/kaggle/input/titanic/train.csv\")\n",
    "df['Sex'] = df['Sex'].map({'male':0, 'female':1})\n",
    "X = df[[\"Pclass\", \"Fare\", \"Sex\"]]\n",
    "y = df[\"Survived\"]\n",
    "\n",
    "features = [\"Pclass\", \"Fare\", \"Sex\"]\n",
    "classes = [\"Survived\"]\n",
    "\n",
    "#------------------------------------------------------------\n",
    "# train test split\n",
    "\n",
    "X_train, X_test, y_train, y_test = train_test_split(X, y, random_state = 0)\n",
    "\n",
    "#------------------------------------------------------------\n",
    "# fit and predict\n",
    "\n",
    "model.fit(X_train, y_train)\n",
    "\n",
    "#------------------------------------------------------------\n",
    "# plot the tree\n",
    "\n",
    "plt.figure(figsize = (20, 10))\n",
    "plot_tree(model, feature_names = features, filled = True);"
   ]
  },
  {
   "cell_type": "code",
   "execution_count": 14,
   "metadata": {},
   "outputs": [
    {
     "name": "stdout",
     "output_type": "stream",
     "text": [
      "|--- Sex <= 0.50\n",
      "|   |--- Fare <= 26.27\n",
      "|   |   |--- Fare <= 7.91\n",
      "|   |   |   |--- Fare <= 7.86\n",
      "|   |   |   |   |--- Fare <= 7.79\n",
      "|   |   |   |   |   |--- Pclass <= 2.50\n",
      "|   |   |   |   |   |   |--- w\n"
     ]
    }
   ],
   "source": [
    "#------------------------------------------------------------\n",
    "# show the text\n",
    "# I will plot only the first 200 characters of the tree since it grows rapidly\n",
    "print(export_text(model, feature_names = features, show_weights=True)[:200]);"
   ]
  },
  {
   "cell_type": "markdown",
   "execution_count": null,
   "metadata": {},
   "source": [
    "<a id = \"trick23\"></a>\n",
    "# Trick 23: Display the intercept & coefficients for a liner model\n",
    "[Go back to the Table of Contents](#table_of_contents)"
   ]
  },
  {
   "cell_type": "code",
   "execution_count": 15,
   "metadata": {},
   "outputs": [
    {
     "data": {
      "text/plain": [
       "LinearRegression(copy_X=True, fit_intercept=True, n_jobs=None, normalize=False)"
      ]
     },
     "execution_count": 15,
     "metadata": {},
     "output_type": "execute_result"
    },
    {
     "data": {
      "text/plain": [
       "152.1334841628965"
      ]
     },
     "execution_count": 15,
     "metadata": {},
     "output_type": "execute_result"
    },
    {
     "data": {
      "text/plain": [
       "array([ -10.01219782, -239.81908937,  519.83978679,  324.39042769,\n",
       "       -792.18416163,  476.74583782,  101.04457032,  177.06417623,\n",
       "        751.27932109,   67.62538639])"
      ]
     },
     "execution_count": 15,
     "metadata": {},
     "output_type": "execute_result"
    },
    {
     "data": {
      "text/plain": [
       "[('age', -10.012197817470847),\n",
       " ('sex', -239.81908936565472),\n",
       " ('bmi', 519.8397867901343),\n",
       " ('bp', 324.3904276893763),\n",
       " ('s1', -792.1841616283061),\n",
       " ('s2', 476.74583782366255),\n",
       " ('s3', 101.04457032134488),\n",
       " ('s4', 177.0641762322512),\n",
       " ('s5', 751.2793210873945),\n",
       " ('s6', 67.62538639104386)]"
      ]
     },
     "execution_count": 15,
     "metadata": {},
     "output_type": "execute_result"
    }
   ],
   "source": [
    "#------------------------------------------------------------\n",
    "# import libraries\n",
    "from sklearn.datasets import load_diabetes\n",
    "from sklearn.linear_model import LinearRegression\n",
    "\n",
    "#------------------------------------------------------------\n",
    "# load data and separate X and y\n",
    "dataset = load_diabetes()\n",
    "X, y = dataset.data, dataset.target\n",
    "features = dataset.feature_names\n",
    "\n",
    "#------------------------------------------------------------\n",
    "# fit model\n",
    "model = LinearRegression()\n",
    "model.fit(X, y)\n",
    "\n",
    "#------------------------------------------------------------\n",
    "# intercept and coef\n",
    "model.intercept_\n",
    "model.coef_\n",
    "list(zip(features, model.coef_))"
   ]
  },
  {
   "cell_type": "markdown",
   "execution_count": null,
   "metadata": {},
   "source": [
    "<a id = \"trick22\"></a>\n",
    "# Trick 22: Two types of Pipelines\n",
    "[Go back to the Table of Contents](#table_of_contents)"
   ]
  },
  {
   "cell_type": "code",
   "execution_count": 16,
   "metadata": {},
   "outputs": [
    {
     "data": {
      "image/jpeg": "[encoded data removed]",
      "text/plain": [
       "<IPython.core.display.Image object>"
      ]
     },
     "execution_count": 16,
     "metadata": {},
     "output_type": "execute_result"
    }
   ],
   "source": [
    "#------------------------------------------------------------\n",
    "# Two types of ROC Curve\n",
    "\n",
    "# If the pipeline ends in a classifier or regressor, you use the fit and predict methods\n",
    "# If the pipeline ends in a transformer you use the fit_transform and transform methods\n",
    "\n",
    "path = \"/kaggle/input/roc-curve/ROC Curve.jpeg\"\n",
    "Image(path)"
   ]
  },
  {
   "cell_type": "markdown",
   "execution_count": null,
   "metadata": {},
   "source": [
    "<a id = \"trick21\"></a>\n",
    "# Trick 21: Several ROC curves in a single plot (new in sklearn 0.22)\n",
    "[Go back to the Table of Contents](#table_of_contents)"
   ]
  },
  {
   "cell_type": "code",
   "execution_count": 17,
   "metadata": {},
   "outputs": [
    {
     "name": "stdout",
     "output_type": "stream",
     "text": [
      "0.22.2.post1\n"
     ]
    },
    {
     "data": {
      "text/plain": [
       "LogisticRegression(C=1.0, class_weight=None, dual=False, fit_intercept=True,\n",
       "                   intercept_scaling=1, l1_ratio=None, max_iter=100,\n",
       "                   multi_class='auto', n_jobs=None, penalty='l2',\n",
       "                   random_state=None, solver='lbfgs', tol=0.0001, verbose=0,\n",
       "                   warm_start=False)"
      ]
     },
     "execution_count": 17,
     "metadata": {},
     "output_type": "execute_result"
    },
    {
     "data": {
      "text/plain": [
       "DecisionTreeClassifier(ccp_alpha=0.0, class_weight=None, criterion='gini',\n",
       "                       max_depth=None, max_features=None, max_leaf_nodes=None,\n",
       "                       min_impurity_decrease=0.0, min_impurity_split=None,\n",
       "                       min_samples_leaf=1, min_samples_split=2,\n",
       "                       min_weight_fraction_leaf=0.0, presort='deprecated',\n",
       "                       random_state=None, splitter='best')"
      ]
     },
     "execution_count": 17,
     "metadata": {},
     "output_type": "execute_result"
    },
    {
     "data": {
      "text/plain": [
       "RandomForestClassifier(bootstrap=True, ccp_alpha=0.0, class_weight=None,\n",
       "                       criterion='gini', max_depth=None, max_features='auto',\n",
       "                       max_leaf_nodes=None, max_samples=None,\n",
       "                       min_impurity_decrease=0.0, min_impurity_split=None,\n",
       "                       min_samples_leaf=1, min_samples_split=2,\n",
       "                       min_weight_fraction_leaf=0.0, n_estimators=100,\n",
       "                       n_jobs=None, oob_score=False, random_state=None,\n",
       "                       verbose=0, warm_start=False)"
      ]
     },
     "execution_count": 17,
     "metadata": {},
     "output_type": "execute_result"
    },
    {
     "data": {
      "text/plain": [
       "<sklearn.metrics._plot.roc_curve.RocCurveDisplay at 0x7f4c7e2b9748>"
      ]
     },
     "execution_count": 17,
     "metadata": {},
     "output_type": "execute_result"
    },
    {
     "data": {
      "text/plain": [
       "<sklearn.metrics._plot.roc_curve.RocCurveDisplay at 0x7f4c57a37fd0>"
      ]
     },
     "execution_count": 17,
     "metadata": {},
     "output_type": "execute_result"
    },
    {
     "data": {
      "image/png": "[encoded data removed]",
      "text/plain": [
       "<Figure size 432x288 with 1 Axes>"
      ]
     },
     "metadata": {
      "needs_background": "light"
     },
     "output_type": "display_data"
    }
   ],
   "source": [
    "import sklearn\n",
    "print(sklearn.__version__)\n",
    "\n",
    "#------------------------------------------------------------\n",
    "# import libraries\n",
    "from sklearn.model_selection import train_test_split\n",
    "from sklearn.metrics import plot_roc_curve\n",
    "from sklearn.linear_model import LogisticRegression\n",
    "from sklearn.ensemble import RandomForestClassifier\n",
    "from sklearn.tree import DecisionTreeClassifier\n",
    "\n",
    "#------------------------------------------------------------\n",
    "# create our instances\n",
    "lr = LogisticRegression()\n",
    "dt = DecisionTreeClassifier()\n",
    "rf = RandomForestClassifier()\n",
    "\n",
    "#------------------------------------------------------------\n",
    "# import data\n",
    "df = pd.read_csv(\"/kaggle/input/titanic/train.csv\")\n",
    "X = df[[\"Pclass\", \"Fare\"]]\n",
    "y = df[\"Survived\"]\n",
    "\n",
    "#------------------------------------------------------------\n",
    "# train test split\n",
    "X_train, X_test, y_train, y_test = train_test_split(X, y, random_state = 0)\n",
    "\n",
    "#------------------------------------------------------------\n",
    "# fit and predict\n",
    "lr.fit(X_train, y_train)\n",
    "dt.fit(X_train, y_train)\n",
    "rf.fit(X_train, y_train)\n",
    "\n",
    "#------------------------------------------------------------\n",
    "# plot roc curve\n",
    "disp = plot_roc_curve(lr, X_test, y_test)\n",
    "plot_roc_curve(dt, X_test, y_test, ax = disp.ax_) # ax = disp.ax_ this line will share the x axis\n",
    "plot_roc_curve(rf, X_test, y_test, ax = disp.ax_)"
   ]
  },
  {
   "cell_type": "markdown",
   "execution_count": null,
   "metadata": {},
   "source": [
    "<a id = \"trick20\"></a>\n",
    "# Trick 20: Plot confusion matrix (new in sklearn 0.22)\n",
    "[Go back to the Table of Contents](#table_of_contents)"
   ]
  },
  {
   "cell_type": "code",
   "execution_count": 18,
   "metadata": {},
   "outputs": [
    {
     "name": "stdout",
     "output_type": "stream",
     "text": [
      "0.22.2.post1\n"
     ]
    },
    {
     "data": {
      "text/plain": [
       "LogisticRegression(C=1.0, class_weight=None, dual=False, fit_intercept=True,\n",
       "                   intercept_scaling=1, l1_ratio=None, max_iter=100,\n",
       "                   multi_class='auto', n_jobs=None, penalty='l2',\n",
       "                   random_state=1, solver='lbfgs', tol=0.0001, verbose=0,\n",
       "                   warm_start=False)"
      ]
     },
     "execution_count": 18,
     "metadata": {},
     "output_type": "execute_result"
    },
    {
     "name": "stdout",
     "output_type": "stream",
     "text": [
      "The classical confusion matrix\n"
     ]
    },
    {
     "data": {
      "text/plain": [
       "array([[122,  17],\n",
       "       [ 48,  36]])"
      ]
     },
     "execution_count": 18,
     "metadata": {},
     "output_type": "execute_result"
    },
    {
     "data": {
      "image/png": "[encoded data removed]",
      "text/plain": [
       "<Figure size 432x288 with 2 Axes>"
      ]
     },
     "metadata": {
      "needs_background": "light"
     },
     "output_type": "display_data"
    }
   ],
   "source": [
    "import sklearn\n",
    "print(sklearn.__version__)\n",
    "\n",
    "#------------------------------------------------------------\n",
    "# import libraries\n",
    "from sklearn.model_selection import train_test_split\n",
    "from sklearn.metrics import plot_confusion_matrix\n",
    "from sklearn.linear_model import LogisticRegression\n",
    "\n",
    "#------------------------------------------------------------\n",
    "# create our instances\n",
    "model = LogisticRegression(random_state = 1)\n",
    "\n",
    "#------------------------------------------------------------\n",
    "# import data\n",
    "df = pd.read_csv(\"/kaggle/input/titanic/train.csv\")\n",
    "X = df[[\"Pclass\", \"Fare\"]]\n",
    "y = df[\"Survived\"]\n",
    "\n",
    "#------------------------------------------------------------\n",
    "# train test split\n",
    "\n",
    "X_train, X_test, y_train, y_test = train_test_split(X, y, random_state = 0)\n",
    "\n",
    "#------------------------------------------------------------\n",
    "# fit and predict\n",
    "\n",
    "model.fit(X_train, y_train)\n",
    "\n",
    "#------------------------------------------------------------\n",
    "# plot confusion matrix\n",
    "# notice that you have to pass the model, X_test and y_test\n",
    "# plot_confusion_matrix predicts with the model and plots the values\n",
    "\n",
    "disp = plot_confusion_matrix(model, X_test, y_test, cmap = \"Blues\", values_format = \".3g\")\n",
    "\n",
    "print(\"The classical confusion matrix\")\n",
    "disp.confusion_matrix"
   ]
  },
  {
   "cell_type": "markdown",
   "execution_count": null,
   "metadata": {},
   "source": [
    "<a id = \"trick19\"></a>\n",
    "# Trick 19: Most important parameters of a LogisticRegression\n",
    "[Go back to the Table of Contents](#table_of_contents)"
   ]
  },
  {
   "cell_type": "code",
   "execution_count": 19,
   "metadata": {},
   "outputs": [
    {
     "data": {
      "image/jpeg": "[encoded data removed]",
      "text/plain": [
       "<IPython.core.display.Image object>"
      ]
     },
     "execution_count": 19,
     "metadata": {},
     "output_type": "execute_result"
    }
   ],
   "source": [
    "#------------------------------------------------------------\n",
    "# C: inverse of regularization strength\n",
    "# penalty: type of regularization\n",
    "# solver: algorithm used for optimization\n",
    "\n",
    "path = \"/kaggle/input/logisticregression/LogisticRegression.jpg\"\n",
    "Image(path)"
   ]
  },
  {
   "cell_type": "markdown",
   "execution_count": null,
   "metadata": {},
   "source": [
    "<a id = \"trick18\"></a>\n",
    "# Trick 18: Convert your GridSearchCV or RandomizedGridSearch results into a pandas DataFrame\n",
    "[Go back to the Table of Contents](#table_of_contents)"
   ]
  },
  {
   "cell_type": "code",
   "execution_count": 20,
   "metadata": {},
   "outputs": [
    {
     "name": "stdout",
     "output_type": "stream",
     "text": [
      "Notice the score of our entire pipeline is 0.8024543343167408\n"
     ]
    },
    {
     "data": {
      "text/plain": [
       "0.8024543343167408"
      ]
     },
     "execution_count": 20,
     "metadata": {},
     "output_type": "execute_result"
    },
    {
     "data": {
      "text/plain": [
       "GridSearchCV(cv=5, error_score=nan,\n",
       "             estimator=Pipeline(memory=None,\n",
       "                                steps=[('columntransformer',\n",
       "                                        ColumnTransformer(n_jobs=None,\n",
       "                                                          remainder='drop',\n",
       "                                                          sparse_threshold=0.3,\n",
       "                                                          transformer_weights=None,\n",
       "                                                          transformers=[('onehotencoder',\n",
       "                                                                         OneHotEncoder(categories='auto',\n",
       "                                                                                       drop=None,\n",
       "                                                                                       dtype=<class 'numpy.float64'>,\n",
       "                                                                                       handle_unknown='error',\n",
       "                                                                                       sparse=True),\n",
       "                                                                         ['Sex']),\n",
       "                                                                        ('countvectorizer...\n",
       "                                                           penalty='l2',\n",
       "                                                           random_state=1,\n",
       "                                                           solver='liblinear',\n",
       "                                                           tol=0.0001,\n",
       "                                                           verbose=0,\n",
       "                                                           warm_start=False))],\n",
       "                                verbose=False),\n",
       "             iid='deprecated', n_jobs=None,\n",
       "             param_grid={'columntransformer__countvectorizer__min_df': [1, 2],\n",
       "                         'logisticregression__C': [0.1, 1, 10],\n",
       "                         'logisticregression__penalty': ['l1', 'l2']},\n",
       "             pre_dispatch='2*n_jobs', refit=True, return_train_score=False,\n",
       "             scoring='accuracy', verbose=0)"
      ]
     },
     "execution_count": 20,
     "metadata": {},
     "output_type": "execute_result"
    },
    {
     "data": {
      "text/html": [
       "<div>\n",
       "<style scoped>\n",
       "    .dataframe tbody tr th:only-of-type {\n",
       "        vertical-align: middle;\n",
       "    }\n",
       "\n",
       "    .dataframe tbody tr th {\n",
       "        vertical-align: top;\n",
       "    }\n",
       "\n",
       "    .dataframe thead th {\n",
       "        text-align: right;\n",
       "    }\n",
       "</style>\n",
       "<table border=\"1\" class=\"dataframe\">\n",
       "  <thead>\n",
       "    <tr style=\"text-align: right;\">\n",
       "      <th></th>\n",
       "      <th>params</th>\n",
       "      <th>mean_test_score</th>\n",
       "      <th>rank_test_score</th>\n",
       "    </tr>\n",
       "  </thead>\n",
       "  <tbody>\n",
       "    <tr>\n",
       "      <th>4</th>\n",
       "      <td>{'columntransformer__countvectorizer__min_df':...</td>\n",
       "      <td>0.821518</td>\n",
       "      <td>1</td>\n",
       "    </tr>\n",
       "    <tr>\n",
       "      <th>2</th>\n",
       "      <td>{'columntransformer__countvectorizer__min_df':...</td>\n",
       "      <td>0.820400</td>\n",
       "      <td>2</td>\n",
       "    </tr>\n",
       "    <tr>\n",
       "      <th>8</th>\n",
       "      <td>{'columntransformer__countvectorizer__min_df':...</td>\n",
       "      <td>0.820400</td>\n",
       "      <td>2</td>\n",
       "    </tr>\n",
       "    <tr>\n",
       "      <th>5</th>\n",
       "      <td>{'columntransformer__countvectorizer__min_df':...</td>\n",
       "      <td>0.814795</td>\n",
       "      <td>4</td>\n",
       "    </tr>\n",
       "    <tr>\n",
       "      <th>11</th>\n",
       "      <td>{'columntransformer__countvectorizer__min_df':...</td>\n",
       "      <td>0.812523</td>\n",
       "      <td>5</td>\n",
       "    </tr>\n",
       "    <tr>\n",
       "      <th>9</th>\n",
       "      <td>{'columntransformer__countvectorizer__min_df':...</td>\n",
       "      <td>0.810313</td>\n",
       "      <td>6</td>\n",
       "    </tr>\n",
       "    <tr>\n",
       "      <th>3</th>\n",
       "      <td>{'columntransformer__countvectorizer__min_df':...</td>\n",
       "      <td>0.802454</td>\n",
       "      <td>7</td>\n",
       "    </tr>\n",
       "    <tr>\n",
       "      <th>10</th>\n",
       "      <td>{'columntransformer__countvectorizer__min_df':...</td>\n",
       "      <td>0.797916</td>\n",
       "      <td>8</td>\n",
       "    </tr>\n",
       "    <tr>\n",
       "      <th>0</th>\n",
       "      <td>{'columntransformer__countvectorizer__min_df':...</td>\n",
       "      <td>0.786737</td>\n",
       "      <td>9</td>\n",
       "    </tr>\n",
       "    <tr>\n",
       "      <th>1</th>\n",
       "      <td>{'columntransformer__countvectorizer__min_df':...</td>\n",
       "      <td>0.786737</td>\n",
       "      <td>9</td>\n",
       "    </tr>\n",
       "    <tr>\n",
       "      <th>6</th>\n",
       "      <td>{'columntransformer__countvectorizer__min_df':...</td>\n",
       "      <td>0.786737</td>\n",
       "      <td>9</td>\n",
       "    </tr>\n",
       "    <tr>\n",
       "      <th>7</th>\n",
       "      <td>{'columntransformer__countvectorizer__min_df':...</td>\n",
       "      <td>0.786737</td>\n",
       "      <td>9</td>\n",
       "    </tr>\n",
       "  </tbody>\n",
       "</table>\n",
       "</div>"
      ],
      "text/plain": [
       "                                               params  mean_test_score  \\\n",
       "4   {'columntransformer__countvectorizer__min_df':...         0.821518   \n",
       "2   {'columntransformer__countvectorizer__min_df':...         0.820400   \n",
       "8   {'columntransformer__countvectorizer__min_df':...         0.820400   \n",
       "5   {'columntransformer__countvectorizer__min_df':...         0.814795   \n",
       "11  {'columntransformer__countvectorizer__min_df':...         0.812523   \n",
       "9   {'columntransformer__countvectorizer__min_df':...         0.810313   \n",
       "3   {'columntransformer__countvectorizer__min_df':...         0.802454   \n",
       "10  {'columntransformer__countvectorizer__min_df':...         0.797916   \n",
       "0   {'columntransformer__countvectorizer__min_df':...         0.786737   \n",
       "1   {'columntransformer__countvectorizer__min_df':...         0.786737   \n",
       "6   {'columntransformer__countvectorizer__min_df':...         0.786737   \n",
       "7   {'columntransformer__countvectorizer__min_df':...         0.786737   \n",
       "\n",
       "    rank_test_score  \n",
       "4                 1  \n",
       "2                 2  \n",
       "8                 2  \n",
       "5                 4  \n",
       "11                5  \n",
       "9                 6  \n",
       "3                 7  \n",
       "10                8  \n",
       "0                 9  \n",
       "1                 9  \n",
       "6                 9  \n",
       "7                 9  "
      ]
     },
     "execution_count": 20,
     "metadata": {},
     "output_type": "execute_result"
    }
   ],
   "source": [
    "#------------------------------------------------------------\n",
    "# import libraries\n",
    "from sklearn.preprocessing import OneHotEncoder\n",
    "from sklearn.feature_extraction.text import CountVectorizer\n",
    "from sklearn.compose import make_column_transformer\n",
    "from sklearn.pipeline import make_pipeline\n",
    "from sklearn.model_selection import cross_val_score, GridSearchCV\n",
    "from sklearn.linear_model import LogisticRegression\n",
    "\n",
    "#------------------------------------------------------------\n",
    "# create our instances\n",
    "ohe = OneHotEncoder()\n",
    "vect = CountVectorizer()\n",
    "ct = make_column_transformer((ohe, [\"Sex\"]), (vect, \"Name\"))\n",
    "model = LogisticRegression(solver = \"liblinear\", random_state = 1)\n",
    "\n",
    "#------------------------------------------------------------\n",
    "# import data\n",
    "df = pd.read_csv(\"/kaggle/input/titanic/train.csv\")\n",
    "X = df[[\"Sex\", \"Name\", \"Fare\"]]\n",
    "y = df[\"Survived\"]\n",
    "\n",
    "#------------------------------------------------------------\n",
    "# make pipeline\n",
    "pipeline = make_pipeline(ct, model)\n",
    "\n",
    "#------------------------------------------------------------\n",
    "# cross validate the entire pipeline\n",
    "print(\"Notice the score of our entire pipeline is {}\".format(cross_val_score(pipeline, X, y, cv = 5, scoring = \"accuracy\").mean()))\n",
    "cross_val_score(pipeline, X, y, cv = 5, scoring = \"accuracy\").mean()\n",
    "\n",
    "#------------------------------------------------------------\n",
    "# gridsearch the entire pipeline\n",
    "\n",
    "# set the parameters\n",
    "params = {\"columntransformer__countvectorizer__min_df\":[1, 2],\n",
    "         \"logisticregression__C\":[0.1, 1, 10],\n",
    "         \"logisticregression__penalty\":[\"l1\", \"l2\"]}\n",
    "\n",
    "grid = GridSearchCV(pipeline, params, cv = 5, scoring = \"accuracy\")\n",
    "grid.fit(X, y)\n",
    "\n",
    "# convert to a pandas DataFrame\n",
    "\n",
    "results = pd.DataFrame(grid.cv_results_)[[\"params\", \"mean_test_score\", \"rank_test_score\"]]\n",
    "results.sort_values(\"rank_test_score\")"
   ]
  },
  {
   "cell_type": "markdown",
   "execution_count": null,
   "metadata": {},
   "source": [
    "<a id = \"trick17\"></a>\n",
    "# Trick 17: RandomizedGridSearch\n",
    "[Go back to the Table of Contents](#table_of_contents)"
   ]
  },
  {
   "cell_type": "code",
   "execution_count": 21,
   "metadata": {},
   "outputs": [
    {
     "data": {
      "text/plain": [
       "RandomizedSearchCV(cv=5, error_score=nan,\n",
       "                   estimator=Pipeline(memory=None,\n",
       "                                      steps=[('countvectorizer',\n",
       "                                              CountVectorizer(analyzer='word',\n",
       "                                                              binary=False,\n",
       "                                                              decode_error='strict',\n",
       "                                                              dtype=<class 'numpy.int64'>,\n",
       "                                                              encoding='utf-8',\n",
       "                                                              input='content',\n",
       "                                                              lowercase=True,\n",
       "                                                              max_df=1.0,\n",
       "                                                              max_features=None,\n",
       "                                                              min_df=1,\n",
       "                                                              ngram_range=(1,\n",
       "                                                                           1),\n",
       "                                                              preprocessor=None,\n",
       "                                                              stop_words=None,\n",
       "                                                              strip_accents=None,\n",
       "                                                              to...\n",
       "                                                            fit_prior=True))],\n",
       "                                      verbose=False),\n",
       "                   iid='deprecated', n_iter=10, n_jobs=None,\n",
       "                   param_distributions={'countvectorizer__lowercase': [True,\n",
       "                                                                       False],\n",
       "                                        'countvectorizer__min_df': [1, 2, 3, 4],\n",
       "                                        'multinomialnb__alpha': <scipy.stats._distn_infrastructure.rv_frozen object at 0x7f4c58a4cda0>},\n",
       "                   pre_dispatch='2*n_jobs', random_state=1, refit=True,\n",
       "                   return_train_score=False, scoring='accuracy', verbose=0)"
      ]
     },
     "execution_count": 21,
     "metadata": {},
     "output_type": "execute_result"
    },
    {
     "name": "stdout",
     "output_type": "stream",
     "text": [
      "Best score achieved with our search is:\n"
     ]
    },
    {
     "data": {
      "text/plain": [
       "0.8080534806352395"
      ]
     },
     "execution_count": 21,
     "metadata": {},
     "output_type": "execute_result"
    },
    {
     "name": "stdout",
     "output_type": "stream",
     "text": [
      "Best params are:\n"
     ]
    },
    {
     "data": {
      "text/plain": [
       "{'countvectorizer__lowercase': False,\n",
       " 'countvectorizer__min_df': 3,\n",
       " 'multinomialnb__alpha': 0.1981014890848788}"
      ]
     },
     "execution_count": 21,
     "metadata": {},
     "output_type": "execute_result"
    }
   ],
   "source": [
    "#------------------------------------------------------------\n",
    "# import libraries\n",
    "from sklearn.feature_extraction.text import CountVectorizer\n",
    "from sklearn.pipeline import make_pipeline\n",
    "from sklearn.model_selection import RandomizedSearchCV, cross_val_score\n",
    "from sklearn.naive_bayes import MultinomialNB\n",
    "import scipy as sp\n",
    "\n",
    "#------------------------------------------------------------\n",
    "# create our instances\n",
    "vect = CountVectorizer()\n",
    "model = MultinomialNB()\n",
    "\n",
    "#------------------------------------------------------------\n",
    "# make pipeline\n",
    "pipeline = make_pipeline(vect, model)\n",
    "\n",
    "#------------------------------------------------------------\n",
    "# import data\n",
    "df = pd.read_csv(\"/kaggle/input/titanic/train.csv\")\n",
    "X = df['Name']\n",
    "y = df['Survived']\n",
    "\n",
    "#------------------------------------------------------------\n",
    "# set the params to optimize\n",
    "\n",
    "params = {}\n",
    "\n",
    "params[\"countvectorizer__min_df\"] = [1, 2, 3, 4]\n",
    "params[\"countvectorizer__lowercase\"] = [True, False]\n",
    "params[\"multinomialnb__alpha\"] = sp.stats.uniform(scale = 1)\n",
    "\n",
    "#------------------------------------------------------------\n",
    "# optimize\n",
    "\n",
    "rand = RandomizedSearchCV(pipeline, params, n_iter = 10, cv = 5, scoring = \"accuracy\", random_state = 1)\n",
    "rand.fit(X, y)\n",
    "\n",
    "#------------------------------------------------------------\n",
    "# best score and params\n",
    "\n",
    "print(\"Best score achieved with our search is:\")\n",
    "rand.best_score_\n",
    "\n",
    "print(\"Best params are:\")\n",
    "rand.best_params_"
   ]
  },
  {
   "cell_type": "markdown",
   "execution_count": null,
   "metadata": {},
   "source": [
    "<a id = \"trick16\"></a>\n",
    "# Trick 16: Crossvalidate and gridsearch a sklearn pipeline\n",
    "[Go back to the Table of Contents](#table_of_contents)"
   ]
  },
  {
   "cell_type": "code",
   "execution_count": 22,
   "metadata": {},
   "outputs": [
    {
     "name": "stdout",
     "output_type": "stream",
     "text": [
      "Notice the score of our entire pipeline is 0.8024543343167408\n"
     ]
    },
    {
     "data": {
      "text/plain": [
       "0.8024543343167408"
      ]
     },
     "execution_count": 22,
     "metadata": {},
     "output_type": "execute_result"
    },
    {
     "data": {
      "text/plain": [
       "GridSearchCV(cv=5, error_score=nan,\n",
       "             estimator=Pipeline(memory=None,\n",
       "                                steps=[('columntransformer',\n",
       "                                        ColumnTransformer(n_jobs=None,\n",
       "                                                          remainder='drop',\n",
       "                                                          sparse_threshold=0.3,\n",
       "                                                          transformer_weights=None,\n",
       "                                                          transformers=[('onehotencoder',\n",
       "                                                                         OneHotEncoder(categories='auto',\n",
       "                                                                                       drop=None,\n",
       "                                                                                       dtype=<class 'numpy.float64'>,\n",
       "                                                                                       handle_unknown='error',\n",
       "                                                                                       sparse=True),\n",
       "                                                                         ['Sex']),\n",
       "                                                                        ('countvectorizer...\n",
       "                                                           penalty='l2',\n",
       "                                                           random_state=1,\n",
       "                                                           solver='liblinear',\n",
       "                                                           tol=0.0001,\n",
       "                                                           verbose=0,\n",
       "                                                           warm_start=False))],\n",
       "                                verbose=False),\n",
       "             iid='deprecated', n_jobs=None,\n",
       "             param_grid={'columntransformer__countvectorizer__min_df': [1, 2],\n",
       "                         'logisticregression__C': [0.1, 1, 10],\n",
       "                         'logisticregression__penalty': ['l1', 'l2']},\n",
       "             pre_dispatch='2*n_jobs', refit=True, return_train_score=False,\n",
       "             scoring='accuracy', verbose=0)"
      ]
     },
     "execution_count": 22,
     "metadata": {},
     "output_type": "execute_result"
    },
    {
     "name": "stdout",
     "output_type": "stream",
     "text": [
      "#-------------------------------------------------------------------------\n",
      "Best score of the GridSearchCV is \n"
     ]
    },
    {
     "data": {
      "text/plain": [
       "0.8215177954930638"
      ]
     },
     "execution_count": 22,
     "metadata": {},
     "output_type": "execute_result"
    },
    {
     "name": "stdout",
     "output_type": "stream",
     "text": [
      "#-------------------------------------------------------------------------\n",
      "Best parameters of the GridSearchCV are \n"
     ]
    },
    {
     "data": {
      "text/plain": [
       "{'columntransformer__countvectorizer__min_df': 1,\n",
       " 'logisticregression__C': 10,\n",
       " 'logisticregression__penalty': 'l1'}"
      ]
     },
     "execution_count": 22,
     "metadata": {},
     "output_type": "execute_result"
    }
   ],
   "source": [
    "#------------------------------------------------------------\n",
    "# import libraries\n",
    "from sklearn.preprocessing import OneHotEncoder\n",
    "from sklearn.feature_extraction.text import CountVectorizer\n",
    "from sklearn.compose import make_column_transformer\n",
    "from sklearn.pipeline import make_pipeline\n",
    "from sklearn.model_selection import cross_val_score, GridSearchCV\n",
    "from sklearn.linear_model import LogisticRegression\n",
    "\n",
    "#------------------------------------------------------------\n",
    "# create our instances\n",
    "ohe = OneHotEncoder()\n",
    "vect = CountVectorizer()\n",
    "ct = make_column_transformer((ohe, [\"Sex\"]), (vect, \"Name\"))\n",
    "model = LogisticRegression(solver = \"liblinear\", random_state = 1)\n",
    "\n",
    "#------------------------------------------------------------\n",
    "# import data\n",
    "df = pd.read_csv(\"/kaggle/input/titanic/train.csv\")\n",
    "X = df[[\"Sex\", \"Name\", \"Fare\"]]\n",
    "y = df[\"Survived\"]\n",
    "\n",
    "#------------------------------------------------------------\n",
    "# make pipeline\n",
    "pipeline = make_pipeline(ct, model)\n",
    "\n",
    "#------------------------------------------------------------\n",
    "# cross validate the entire pipeline\n",
    "print(\"Notice the score of our entire pipeline is {}\".format(cross_val_score(pipeline, X, y, cv = 5, scoring = \"accuracy\").mean()))\n",
    "cross_val_score(pipeline, X, y, cv = 5, scoring = \"accuracy\").mean()\n",
    "\n",
    "#------------------------------------------------------------\n",
    "# gridsearch the entire pipeline\n",
    "\n",
    "# set the parameters\n",
    "params = {\"columntransformer__countvectorizer__min_df\":[1, 2],\n",
    "         \"logisticregression__C\":[0.1, 1, 10],\n",
    "         \"logisticregression__penalty\":[\"l1\", \"l2\"]}\n",
    "\n",
    "grid = GridSearchCV(pipeline, params, cv = 5, scoring = \"accuracy\")\n",
    "grid.fit(X, y)\n",
    "\n",
    "# see the best score\n",
    "print(\"#-------------------------------------------------------------------------\")\n",
    "print(\"Best score of the GridSearchCV is \")\n",
    "grid.best_score_\n",
    "\n",
    "# see the best params\n",
    "print(\"#-------------------------------------------------------------------------\")\n",
    "print(\"Best parameters of the GridSearchCV are \")\n",
    "grid.best_params_"
   ]
  },
  {
   "cell_type": "markdown",
   "execution_count": null,
   "metadata": {},
   "source": [
    "<a id = \"trick15\"></a>\n",
    "# Trick 15: OneHotEncoder: tips using it\n",
    "[Go back to the Table of Contents](#table_of_contents)"
   ]
  },
  {
   "cell_type": "markdown",
   "execution_count": null,
   "metadata": {},
   "source": [
    "If you use OneHotEncoder, don't \"drop = 'first'\":\n",
    "1. Multicollinearity is rarely and issue with sklearn models\n",
    "2. drop = 'first' is incompatible with handle_unknown = 'ignore'\n",
    "3. May cause you problems if yoy standarize all features or use a regularized model"
   ]
  },
  {
   "cell_type": "markdown",
   "execution_count": null,
   "metadata": {},
   "source": [
    "<a id = \"trick14\"></a>\n",
    "# Trick 14: Handling missing values\n",
    "[Go back to the Table of Contents](#table_of_contents)"
   ]
  },
  {
   "cell_type": "code",
   "execution_count": 23,
   "metadata": {},
   "outputs": [
    {
     "name": "stdout",
     "output_type": "stream",
     "text": [
      "We can see that we have missing values\n"
     ]
    },
    {
     "data": {
      "text/plain": [
       "PassengerId      0\n",
       "Survived         0\n",
       "Pclass           0\n",
       "Name             0\n",
       "Sex              0\n",
       "Age            177\n",
       "SibSp            0\n",
       "Parch            0\n",
       "Ticket           0\n",
       "Fare             0\n",
       "Cabin          687\n",
       "Embarked         2\n",
       "dtype: int64"
      ]
     },
     "execution_count": 23,
     "metadata": {},
     "output_type": "execute_result"
    },
    {
     "data": {
      "text/plain": [
       "HistGradientBoostingClassifier(l2_regularization=0.0, learning_rate=0.1,\n",
       "                               loss='auto', max_bins=255, max_depth=None,\n",
       "                               max_iter=100, max_leaf_nodes=31,\n",
       "                               min_samples_leaf=20, n_iter_no_change=None,\n",
       "                               random_state=None, scoring=None, tol=1e-07,\n",
       "                               validation_fraction=0.1, verbose=0,\n",
       "                               warm_start=False)"
      ]
     },
     "execution_count": 23,
     "metadata": {},
     "output_type": "execute_result"
    },
    {
     "name": "stdout",
     "output_type": "stream",
     "text": [
      "Accuracy of our model while having missing values is 64.0%\n"
     ]
    }
   ],
   "source": [
    "#------------------------------------------------------------\n",
    "# If you have missing values you can:\n",
    "# 1. Drop all rows with missing values\n",
    "# 2. Drop all colmns with missing values\n",
    "# 3. Impute missing values\n",
    "# 4. Use a model that handles missing values\n",
    "\n",
    "#------------------------------------------------------------\n",
    "# import libraries\n",
    "from sklearn.experimental import enable_hist_gradient_boosting # this import enables \"experimental\" packages and clases in sklearn\n",
    "from sklearn.ensemble import HistGradientBoostingClassifier # this is an experimental package\n",
    "from sklearn.model_selection import train_test_split\n",
    "from sklearn.metrics import accuracy_score\n",
    "\n",
    "#------------------------------------------------------------\n",
    "# import data\n",
    "df = pd.read_csv(\"/kaggle/input/titanic/train.csv\")\n",
    "print(\"We can see that we have missing values\")\n",
    "\n",
    "df.isnull().sum()\n",
    "\n",
    "#------------------------------------------------------------\n",
    "# split target and feature\n",
    "\n",
    "features = [col for col in df.columns if df[col].dtype != \"object\"] # select only numerical columns\n",
    "features.remove(\"Survived\")\n",
    "features.remove(\"PassengerId\")\n",
    "\n",
    "X = df[features]\n",
    "y = df[\"Survived\"]\n",
    "\n",
    "#------------------------------------------------------------\n",
    "# Train a model that handles missing values\n",
    "\n",
    "model = HistGradientBoostingClassifier()\n",
    "X_train, X_test, y_train, y_test = train_test_split(X, y, test_size = 0.1, random_state = 175)\n",
    "\n",
    "model.fit(X_train, y_train)\n",
    "y_pred = model.predict(X_test)\n",
    "\n",
    "print(\"Accuracy of our model while having missing values is {}%\".format(round(accuracy_score(y_test, y_pred), 2)*100))\n"
   ]
  },
  {
   "cell_type": "markdown",
   "execution_count": null,
   "metadata": {},
   "source": [
    "<a id = \"trick13\"></a>\n",
    "# Trick 13: Examine each step of a Pipeline\n",
    "[Go back to the Table of Contents](#table_of_contents)"
   ]
  },
  {
   "cell_type": "code",
   "execution_count": 24,
   "metadata": {},
   "outputs": [
    {
     "data": {
      "text/html": [
       "<div>\n",
       "<style scoped>\n",
       "    .dataframe tbody tr th:only-of-type {\n",
       "        vertical-align: middle;\n",
       "    }\n",
       "\n",
       "    .dataframe tbody tr th {\n",
       "        vertical-align: top;\n",
       "    }\n",
       "\n",
       "    .dataframe thead th {\n",
       "        text-align: right;\n",
       "    }\n",
       "</style>\n",
       "<table border=\"1\" class=\"dataframe\">\n",
       "  <thead>\n",
       "    <tr style=\"text-align: right;\">\n",
       "      <th></th>\n",
       "      <th>Fare</th>\n",
       "      <th>Age</th>\n",
       "    </tr>\n",
       "  </thead>\n",
       "  <tbody>\n",
       "    <tr>\n",
       "      <th>0</th>\n",
       "      <td>7.2500</td>\n",
       "      <td>NaN</td>\n",
       "    </tr>\n",
       "    <tr>\n",
       "      <th>1</th>\n",
       "      <td>71.2833</td>\n",
       "      <td>38.0</td>\n",
       "    </tr>\n",
       "    <tr>\n",
       "      <th>2</th>\n",
       "      <td>7.9250</td>\n",
       "      <td>26.0</td>\n",
       "    </tr>\n",
       "    <tr>\n",
       "      <th>3</th>\n",
       "      <td>53.1000</td>\n",
       "      <td>35.0</td>\n",
       "    </tr>\n",
       "    <tr>\n",
       "      <th>4</th>\n",
       "      <td>8.0500</td>\n",
       "      <td>35.0</td>\n",
       "    </tr>\n",
       "  </tbody>\n",
       "</table>\n",
       "</div>"
      ],
      "text/plain": [
       "      Fare   Age\n",
       "0   7.2500   NaN\n",
       "1  71.2833  38.0\n",
       "2   7.9250  26.0\n",
       "3  53.1000  35.0\n",
       "4   8.0500  35.0"
      ]
     },
     "execution_count": 24,
     "metadata": {},
     "output_type": "execute_result"
    },
    {
     "name": "stderr",
     "output_type": "stream",
     "text": [
      "/opt/conda/lib/python3.6/site-packages/sklearn/utils/validation.py:760: DataConversionWarning: A column-vector y was passed when a 1d array was expected. Please change the shape of y to (n_samples, ), for example using ravel().\n",
      "  y = column_or_1d(y, warn=True)\n"
     ]
    },
    {
     "data": {
      "text/plain": [
       "Pipeline(memory=None,\n",
       "         steps=[('simpleimputer',\n",
       "                 SimpleImputer(add_indicator=False, copy=True, fill_value=None,\n",
       "                               missing_values=nan, strategy='mean',\n",
       "                               verbose=0)),\n",
       "                ('logisticregression',\n",
       "                 LogisticRegression(C=1.0, class_weight=None, dual=False,\n",
       "                                    fit_intercept=True, intercept_scaling=1,\n",
       "                                    l1_ratio=None, max_iter=100,\n",
       "                                    multi_class='auto', n_jobs=None,\n",
       "                                    penalty='l2', random_state=None,\n",
       "                                    solver='lbfgs', tol=0.0001, verbose=0,\n",
       "                                    warm_start=False))],\n",
       "         verbose=False)"
      ]
     },
     "execution_count": 24,
     "metadata": {},
     "output_type": "execute_result"
    },
    {
     "name": "stdout",
     "output_type": "stream",
     "text": [
      "These are the imputed values with the SimpleImputer\n"
     ]
    },
    {
     "data": {
      "text/plain": [
       "array([29.52166, 33.5    ])"
      ]
     },
     "execution_count": 24,
     "metadata": {},
     "output_type": "execute_result"
    },
    {
     "name": "stdout",
     "output_type": "stream",
     "text": [
      "Display the coefficients of the linear model\n"
     ]
    },
    {
     "data": {
      "text/plain": [
       "array([[ 0.20785238, -0.66529709]])"
      ]
     },
     "execution_count": 24,
     "metadata": {},
     "output_type": "execute_result"
    }
   ],
   "source": [
    "#------------------------------------------------------------\n",
    "# import libraries\n",
    "from sklearn.impute import SimpleImputer\n",
    "from sklearn.linear_model import LogisticRegression\n",
    "from sklearn.pipeline import make_pipeline\n",
    "\n",
    "#------------------------------------------------------------\n",
    "# create each instance\n",
    "si = SimpleImputer()\n",
    "model = LogisticRegression()\n",
    "\n",
    "#------------------------------------------------------------\n",
    "# import data\n",
    "df = pd.read_csv(\"/kaggle/input/titanic/train.csv\")\n",
    "\n",
    "#------------------------------------------------------------\n",
    "# select columns to transform\n",
    "X = df[[\"Fare\", \"Age\"]].head()\n",
    "X[\"Age\"].iloc[0] = np.nan # create a missing values\n",
    "X.head()\n",
    "\n",
    "y = df[[\"Survived\"]].head()\n",
    "\n",
    "#------------------------------------------------------------\n",
    "# use make_pipeline\n",
    "\n",
    "pipeline = make_pipeline(si, model)\n",
    "\n",
    "pipeline.fit(X, y)\n",
    "\n",
    "#------------------------------------------------------------\n",
    "# let's see the statistics of each step\n",
    "print(\"These are the imputed values with the SimpleImputer\")\n",
    "pipeline.named_steps.simpleimputer.statistics_\n",
    "\n",
    "print(\"Display the coefficients of the linear model\")\n",
    "pipeline.named_steps.logisticregression.coef_"
   ]
  },
  {
   "cell_type": "markdown",
   "execution_count": null,
   "metadata": {},
   "source": [
    "<a id = \"trick12\"></a>\n",
    "# Trick 12: Difference between Pipeline and make_pipeline\n",
    "[Go back to the Table of Contents](#table_of_contents)"
   ]
  },
  {
   "cell_type": "code",
   "execution_count": 25,
   "metadata": {},
   "outputs": [
    {
     "data": {
      "text/html": [
       "<div>\n",
       "<style scoped>\n",
       "    .dataframe tbody tr th:only-of-type {\n",
       "        vertical-align: middle;\n",
       "    }\n",
       "\n",
       "    .dataframe tbody tr th {\n",
       "        vertical-align: top;\n",
       "    }\n",
       "\n",
       "    .dataframe thead th {\n",
       "        text-align: right;\n",
       "    }\n",
       "</style>\n",
       "<table border=\"1\" class=\"dataframe\">\n",
       "  <thead>\n",
       "    <tr style=\"text-align: right;\">\n",
       "      <th></th>\n",
       "      <th>Fare</th>\n",
       "      <th>Embarked</th>\n",
       "      <th>Sex</th>\n",
       "      <th>Age</th>\n",
       "    </tr>\n",
       "  </thead>\n",
       "  <tbody>\n",
       "    <tr>\n",
       "      <th>0</th>\n",
       "      <td>7.2500</td>\n",
       "      <td>S</td>\n",
       "      <td>male</td>\n",
       "      <td>NaN</td>\n",
       "    </tr>\n",
       "    <tr>\n",
       "      <th>1</th>\n",
       "      <td>71.2833</td>\n",
       "      <td>C</td>\n",
       "      <td>female</td>\n",
       "      <td>38.0</td>\n",
       "    </tr>\n",
       "    <tr>\n",
       "      <th>2</th>\n",
       "      <td>7.9250</td>\n",
       "      <td>S</td>\n",
       "      <td>female</td>\n",
       "      <td>26.0</td>\n",
       "    </tr>\n",
       "    <tr>\n",
       "      <th>3</th>\n",
       "      <td>53.1000</td>\n",
       "      <td>S</td>\n",
       "      <td>female</td>\n",
       "      <td>35.0</td>\n",
       "    </tr>\n",
       "    <tr>\n",
       "      <th>4</th>\n",
       "      <td>8.0500</td>\n",
       "      <td>S</td>\n",
       "      <td>male</td>\n",
       "      <td>35.0</td>\n",
       "    </tr>\n",
       "  </tbody>\n",
       "</table>\n",
       "</div>"
      ],
      "text/plain": [
       "      Fare Embarked     Sex   Age\n",
       "0   7.2500        S    male   NaN\n",
       "1  71.2833        C  female  38.0\n",
       "2   7.9250        S  female  26.0\n",
       "3  53.1000        S  female  35.0\n",
       "4   8.0500        S    male  35.0"
      ]
     },
     "execution_count": 25,
     "metadata": {},
     "output_type": "execute_result"
    },
    {
     "name": "stderr",
     "output_type": "stream",
     "text": [
      "/opt/conda/lib/python3.6/site-packages/sklearn/utils/validation.py:760: DataConversionWarning: A column-vector y was passed when a 1d array was expected. Please change the shape of y to (n_samples, ), for example using ravel().\n",
      "  y = column_or_1d(y, warn=True)\n"
     ]
    },
    {
     "data": {
      "text/plain": [
       "Pipeline(memory=None,\n",
       "         steps=[('columntransformer',\n",
       "                 ColumnTransformer(n_jobs=None, remainder='passthrough',\n",
       "                                   sparse_threshold=0.3,\n",
       "                                   transformer_weights=None,\n",
       "                                   transformers=[('onehotencoder',\n",
       "                                                  OneHotEncoder(categories='auto',\n",
       "                                                                drop=None,\n",
       "                                                                dtype=<class 'numpy.float64'>,\n",
       "                                                                handle_unknown='error',\n",
       "                                                                sparse=True),\n",
       "                                                  ['Embarked', 'Sex']),\n",
       "                                                 ('simpleimputer',\n",
       "                                                  SimpleImputer(add_indicato...\n",
       "                                                                fill_value=None,\n",
       "                                                                missing_values=nan,\n",
       "                                                                strategy='mean',\n",
       "                                                                verbose=0),\n",
       "                                                  ['Age'])],\n",
       "                                   verbose=False)),\n",
       "                ('logisticregression',\n",
       "                 LogisticRegression(C=1.0, class_weight=None, dual=False,\n",
       "                                    fit_intercept=True, intercept_scaling=1,\n",
       "                                    l1_ratio=None, max_iter=100,\n",
       "                                    multi_class='auto', n_jobs=None,\n",
       "                                    penalty='l2', random_state=None,\n",
       "                                    solver='lbfgs', tol=0.0001, verbose=0,\n",
       "                                    warm_start=False))],\n",
       "         verbose=False)"
      ]
     },
     "execution_count": 25,
     "metadata": {},
     "output_type": "execute_result"
    },
    {
     "name": "stderr",
     "output_type": "stream",
     "text": [
      "/opt/conda/lib/python3.6/site-packages/sklearn/utils/validation.py:760: DataConversionWarning: A column-vector y was passed when a 1d array was expected. Please change the shape of y to (n_samples, ), for example using ravel().\n",
      "  y = column_or_1d(y, warn=True)\n"
     ]
    },
    {
     "data": {
      "text/plain": [
       "Pipeline(memory=None,\n",
       "         steps=[('preprocessing',\n",
       "                 ColumnTransformer(n_jobs=None, remainder='passthrough',\n",
       "                                   sparse_threshold=0.3,\n",
       "                                   transformer_weights=None,\n",
       "                                   transformers=[('encoder',\n",
       "                                                  OneHotEncoder(categories='auto',\n",
       "                                                                drop=None,\n",
       "                                                                dtype=<class 'numpy.float64'>,\n",
       "                                                                handle_unknown='error',\n",
       "                                                                sparse=True),\n",
       "                                                  ['Embarked', 'Sex']),\n",
       "                                                 ('imputer',\n",
       "                                                  SimpleImputer(add_indicator=False,\n",
       "                                                                copy=True,\n",
       "                                                                fill_value=None,\n",
       "                                                                missing_values=nan,\n",
       "                                                                strategy='mean',\n",
       "                                                                verbose=0),\n",
       "                                                  ['Age'])],\n",
       "                                   verbose=False)),\n",
       "                ('model',\n",
       "                 LogisticRegression(C=1.0, class_weight=None, dual=False,\n",
       "                                    fit_intercept=True, intercept_scaling=1,\n",
       "                                    l1_ratio=None, max_iter=100,\n",
       "                                    multi_class='auto', n_jobs=None,\n",
       "                                    penalty='l2', random_state=None,\n",
       "                                    solver='lbfgs', tol=0.0001, verbose=0,\n",
       "                                    warm_start=False))],\n",
       "         verbose=False)"
      ]
     },
     "execution_count": 25,
     "metadata": {},
     "output_type": "execute_result"
    }
   ],
   "source": [
    "#------------------------------------------------------------\n",
    "# import libraries\n",
    "from sklearn.impute import SimpleImputer\n",
    "from sklearn.preprocessing import OneHotEncoder\n",
    "from sklearn.linear_model import LogisticRegression\n",
    "from sklearn.compose import make_column_transformer, ColumnTransformer\n",
    "from sklearn.pipeline import make_pipeline, Pipeline\n",
    "\n",
    "#------------------------------------------------------------\n",
    "# create each instance\n",
    "ohe = OneHotEncoder()\n",
    "si = SimpleImputer()\n",
    "model = LogisticRegression()\n",
    "\n",
    "#------------------------------------------------------------\n",
    "# import data\n",
    "df = pd.read_csv(\"/kaggle/input/titanic/train.csv\")\n",
    "\n",
    "#------------------------------------------------------------\n",
    "# select columns to transform\n",
    "X = df[[\"Fare\", \"Embarked\", \"Sex\", \"Age\"]].head()\n",
    "X[\"Age\"].iloc[0] = np.nan # create a missing values\n",
    "X.head()\n",
    "\n",
    "y = df[[\"Survived\"]].head()\n",
    "\n",
    "#------------------------------------------------------------\n",
    "# use make_pipeline\n",
    "\n",
    "column_transformer = make_column_transformer(\n",
    "(ohe, [\"Embarked\", \"Sex\"]),\n",
    "(si, [\"Age\"]),\n",
    "remainder = \"passthrough\"\n",
    ")\n",
    "\n",
    "pipeline = make_pipeline(column_transformer, model)\n",
    "\n",
    "pipeline.fit(X, y)\n",
    "\n",
    "#------------------------------------------------------------\n",
    "# use Pipeline\n",
    "# The main difference is that we must name each step\n",
    "\n",
    "column_transformer = ColumnTransformer(\n",
    "[(\"encoder\", ohe, [\"Embarked\", \"Sex\"]), # notice how we must name each step\n",
    "(\"imputer\", si, [\"Age\"])],\n",
    "remainder = \"passthrough\"\n",
    ")\n",
    "\n",
    "pipeline = Pipeline([(\"preprocessing\", column_transformer), (\"model\", model)]) # notice how we must name each step\n",
    "pipeline.fit(X, y)"
   ]
  },
  {
   "cell_type": "markdown",
   "execution_count": null,
   "metadata": {},
   "source": [
    "<a id = \"trick11\"></a>\n",
    "# Trick 11: KNNImputer\n",
    "[Go back to the Table of Contents](#table_of_contents)"
   ]
  },
  {
   "cell_type": "code",
   "execution_count": 26,
   "metadata": {},
   "outputs": [
    {
     "data": {
      "text/plain": [
       "PassengerId      0\n",
       "Survived         0\n",
       "Pclass           0\n",
       "Name             0\n",
       "Sex              0\n",
       "Age            177\n",
       "SibSp            0\n",
       "Parch            0\n",
       "Ticket           0\n",
       "Fare             0\n",
       "Cabin          687\n",
       "Embarked         2\n",
       "dtype: int64"
      ]
     },
     "execution_count": 26,
     "metadata": {},
     "output_type": "execute_result"
    },
    {
     "data": {
      "text/html": [
       "<div>\n",
       "<style scoped>\n",
       "    .dataframe tbody tr th:only-of-type {\n",
       "        vertical-align: middle;\n",
       "    }\n",
       "\n",
       "    .dataframe tbody tr th {\n",
       "        vertical-align: top;\n",
       "    }\n",
       "\n",
       "    .dataframe thead th {\n",
       "        text-align: right;\n",
       "    }\n",
       "</style>\n",
       "<table border=\"1\" class=\"dataframe\">\n",
       "  <thead>\n",
       "    <tr style=\"text-align: right;\">\n",
       "      <th></th>\n",
       "      <th>PassengerId</th>\n",
       "      <th>Survived</th>\n",
       "      <th>Pclass</th>\n",
       "      <th>Name</th>\n",
       "      <th>Sex</th>\n",
       "      <th>Age</th>\n",
       "      <th>SibSp</th>\n",
       "      <th>Parch</th>\n",
       "      <th>Ticket</th>\n",
       "      <th>Fare</th>\n",
       "      <th>Cabin</th>\n",
       "      <th>Embarked</th>\n",
       "    </tr>\n",
       "  </thead>\n",
       "  <tbody>\n",
       "    <tr>\n",
       "      <th>0</th>\n",
       "      <td>1</td>\n",
       "      <td>0</td>\n",
       "      <td>3</td>\n",
       "      <td>Braund, Mr. Owen Harris</td>\n",
       "      <td>male</td>\n",
       "      <td>22.0</td>\n",
       "      <td>1</td>\n",
       "      <td>0</td>\n",
       "      <td>A/5 21171</td>\n",
       "      <td>7.2500</td>\n",
       "      <td>NaN</td>\n",
       "      <td>S</td>\n",
       "    </tr>\n",
       "    <tr>\n",
       "      <th>1</th>\n",
       "      <td>2</td>\n",
       "      <td>1</td>\n",
       "      <td>1</td>\n",
       "      <td>Cumings, Mrs. John Bradley (Florence Briggs Th...</td>\n",
       "      <td>female</td>\n",
       "      <td>38.0</td>\n",
       "      <td>1</td>\n",
       "      <td>0</td>\n",
       "      <td>PC 17599</td>\n",
       "      <td>71.2833</td>\n",
       "      <td>C85</td>\n",
       "      <td>C</td>\n",
       "    </tr>\n",
       "    <tr>\n",
       "      <th>2</th>\n",
       "      <td>3</td>\n",
       "      <td>1</td>\n",
       "      <td>3</td>\n",
       "      <td>Heikkinen, Miss. Laina</td>\n",
       "      <td>female</td>\n",
       "      <td>26.0</td>\n",
       "      <td>0</td>\n",
       "      <td>0</td>\n",
       "      <td>STON/O2. 3101282</td>\n",
       "      <td>7.9250</td>\n",
       "      <td>NaN</td>\n",
       "      <td>S</td>\n",
       "    </tr>\n",
       "    <tr>\n",
       "      <th>3</th>\n",
       "      <td>4</td>\n",
       "      <td>1</td>\n",
       "      <td>1</td>\n",
       "      <td>Futrelle, Mrs. Jacques Heath (Lily May Peel)</td>\n",
       "      <td>female</td>\n",
       "      <td>35.0</td>\n",
       "      <td>1</td>\n",
       "      <td>0</td>\n",
       "      <td>113803</td>\n",
       "      <td>53.1000</td>\n",
       "      <td>C123</td>\n",
       "      <td>S</td>\n",
       "    </tr>\n",
       "    <tr>\n",
       "      <th>4</th>\n",
       "      <td>5</td>\n",
       "      <td>0</td>\n",
       "      <td>3</td>\n",
       "      <td>Allen, Mr. William Henry</td>\n",
       "      <td>male</td>\n",
       "      <td>35.0</td>\n",
       "      <td>0</td>\n",
       "      <td>0</td>\n",
       "      <td>373450</td>\n",
       "      <td>8.0500</td>\n",
       "      <td>NaN</td>\n",
       "      <td>S</td>\n",
       "    </tr>\n",
       "  </tbody>\n",
       "</table>\n",
       "</div>"
      ],
      "text/plain": [
       "   PassengerId  Survived  Pclass  \\\n",
       "0            1         0       3   \n",
       "1            2         1       1   \n",
       "2            3         1       3   \n",
       "3            4         1       1   \n",
       "4            5         0       3   \n",
       "\n",
       "                                                Name     Sex   Age  SibSp  \\\n",
       "0                            Braund, Mr. Owen Harris    male  22.0      1   \n",
       "1  Cumings, Mrs. John Bradley (Florence Briggs Th...  female  38.0      1   \n",
       "2                             Heikkinen, Miss. Laina  female  26.0      0   \n",
       "3       Futrelle, Mrs. Jacques Heath (Lily May Peel)  female  35.0      1   \n",
       "4                           Allen, Mr. William Henry    male  35.0      0   \n",
       "\n",
       "   Parch            Ticket     Fare Cabin Embarked  \n",
       "0      0         A/5 21171   7.2500   NaN        S  \n",
       "1      0          PC 17599  71.2833   C85        C  \n",
       "2      0  STON/O2. 3101282   7.9250   NaN        S  \n",
       "3      0            113803  53.1000  C123        S  \n",
       "4      0            373450   8.0500   NaN        S  "
      ]
     },
     "execution_count": 26,
     "metadata": {},
     "output_type": "execute_result"
    },
    {
     "name": "stdout",
     "output_type": "stream",
     "text": [
      "Data with nans\n"
     ]
    },
    {
     "data": {
      "text/html": [
       "<div>\n",
       "<style scoped>\n",
       "    .dataframe tbody tr th:only-of-type {\n",
       "        vertical-align: middle;\n",
       "    }\n",
       "\n",
       "    .dataframe tbody tr th {\n",
       "        vertical-align: top;\n",
       "    }\n",
       "\n",
       "    .dataframe thead th {\n",
       "        text-align: right;\n",
       "    }\n",
       "</style>\n",
       "<table border=\"1\" class=\"dataframe\">\n",
       "  <thead>\n",
       "    <tr style=\"text-align: right;\">\n",
       "      <th></th>\n",
       "      <th>SibSp</th>\n",
       "      <th>Fare</th>\n",
       "      <th>Age</th>\n",
       "    </tr>\n",
       "  </thead>\n",
       "  <tbody>\n",
       "    <tr>\n",
       "      <th>5</th>\n",
       "      <td>0</td>\n",
       "      <td>8.4583</td>\n",
       "      <td>NaN</td>\n",
       "    </tr>\n",
       "    <tr>\n",
       "      <th>17</th>\n",
       "      <td>0</td>\n",
       "      <td>13.0000</td>\n",
       "      <td>NaN</td>\n",
       "    </tr>\n",
       "    <tr>\n",
       "      <th>19</th>\n",
       "      <td>0</td>\n",
       "      <td>7.2250</td>\n",
       "      <td>NaN</td>\n",
       "    </tr>\n",
       "    <tr>\n",
       "      <th>26</th>\n",
       "      <td>0</td>\n",
       "      <td>7.2250</td>\n",
       "      <td>NaN</td>\n",
       "    </tr>\n",
       "    <tr>\n",
       "      <th>28</th>\n",
       "      <td>0</td>\n",
       "      <td>7.8792</td>\n",
       "      <td>NaN</td>\n",
       "    </tr>\n",
       "    <tr>\n",
       "      <th>29</th>\n",
       "      <td>0</td>\n",
       "      <td>7.8958</td>\n",
       "      <td>NaN</td>\n",
       "    </tr>\n",
       "    <tr>\n",
       "      <th>31</th>\n",
       "      <td>1</td>\n",
       "      <td>146.5208</td>\n",
       "      <td>NaN</td>\n",
       "    </tr>\n",
       "    <tr>\n",
       "      <th>32</th>\n",
       "      <td>0</td>\n",
       "      <td>7.7500</td>\n",
       "      <td>NaN</td>\n",
       "    </tr>\n",
       "    <tr>\n",
       "      <th>36</th>\n",
       "      <td>0</td>\n",
       "      <td>7.2292</td>\n",
       "      <td>NaN</td>\n",
       "    </tr>\n",
       "    <tr>\n",
       "      <th>42</th>\n",
       "      <td>0</td>\n",
       "      <td>7.8958</td>\n",
       "      <td>NaN</td>\n",
       "    </tr>\n",
       "  </tbody>\n",
       "</table>\n",
       "</div>"
      ],
      "text/plain": [
       "    SibSp      Fare  Age\n",
       "5       0    8.4583  NaN\n",
       "17      0   13.0000  NaN\n",
       "19      0    7.2250  NaN\n",
       "26      0    7.2250  NaN\n",
       "28      0    7.8792  NaN\n",
       "29      0    7.8958  NaN\n",
       "31      1  146.5208  NaN\n",
       "32      0    7.7500  NaN\n",
       "36      0    7.2292  NaN\n",
       "42      0    7.8958  NaN"
      ]
     },
     "execution_count": 26,
     "metadata": {},
     "output_type": "execute_result"
    },
    {
     "name": "stdout",
     "output_type": "stream",
     "text": [
      "Transformed data with no nans, and the values are based on the NN.\n"
     ]
    },
    {
     "data": {
      "text/html": [
       "<div>\n",
       "<style scoped>\n",
       "    .dataframe tbody tr th:only-of-type {\n",
       "        vertical-align: middle;\n",
       "    }\n",
       "\n",
       "    .dataframe tbody tr th {\n",
       "        vertical-align: top;\n",
       "    }\n",
       "\n",
       "    .dataframe thead th {\n",
       "        text-align: right;\n",
       "    }\n",
       "</style>\n",
       "<table border=\"1\" class=\"dataframe\">\n",
       "  <thead>\n",
       "    <tr style=\"text-align: right;\">\n",
       "      <th></th>\n",
       "      <th>SibSp</th>\n",
       "      <th>Fare</th>\n",
       "      <th>Age</th>\n",
       "    </tr>\n",
       "  </thead>\n",
       "  <tbody>\n",
       "    <tr>\n",
       "      <th>5</th>\n",
       "      <td>0.0</td>\n",
       "      <td>8.4583</td>\n",
       "      <td>22.684</td>\n",
       "    </tr>\n",
       "    <tr>\n",
       "      <th>17</th>\n",
       "      <td>0.0</td>\n",
       "      <td>13.0000</td>\n",
       "      <td>24.600</td>\n",
       "    </tr>\n",
       "    <tr>\n",
       "      <th>19</th>\n",
       "      <td>0.0</td>\n",
       "      <td>7.2250</td>\n",
       "      <td>26.400</td>\n",
       "    </tr>\n",
       "    <tr>\n",
       "      <th>26</th>\n",
       "      <td>0.0</td>\n",
       "      <td>7.2250</td>\n",
       "      <td>26.400</td>\n",
       "    </tr>\n",
       "    <tr>\n",
       "      <th>28</th>\n",
       "      <td>0.0</td>\n",
       "      <td>7.8792</td>\n",
       "      <td>29.400</td>\n",
       "    </tr>\n",
       "    <tr>\n",
       "      <th>29</th>\n",
       "      <td>0.0</td>\n",
       "      <td>7.8958</td>\n",
       "      <td>28.600</td>\n",
       "    </tr>\n",
       "    <tr>\n",
       "      <th>31</th>\n",
       "      <td>1.0</td>\n",
       "      <td>146.5208</td>\n",
       "      <td>21.584</td>\n",
       "    </tr>\n",
       "    <tr>\n",
       "      <th>32</th>\n",
       "      <td>0.0</td>\n",
       "      <td>7.7500</td>\n",
       "      <td>40.700</td>\n",
       "    </tr>\n",
       "    <tr>\n",
       "      <th>36</th>\n",
       "      <td>0.0</td>\n",
       "      <td>7.2292</td>\n",
       "      <td>23.000</td>\n",
       "    </tr>\n",
       "    <tr>\n",
       "      <th>42</th>\n",
       "      <td>0.0</td>\n",
       "      <td>7.8958</td>\n",
       "      <td>28.600</td>\n",
       "    </tr>\n",
       "  </tbody>\n",
       "</table>\n",
       "</div>"
      ],
      "text/plain": [
       "    SibSp      Fare     Age\n",
       "5     0.0    8.4583  22.684\n",
       "17    0.0   13.0000  24.600\n",
       "19    0.0    7.2250  26.400\n",
       "26    0.0    7.2250  26.400\n",
       "28    0.0    7.8792  29.400\n",
       "29    0.0    7.8958  28.600\n",
       "31    1.0  146.5208  21.584\n",
       "32    0.0    7.7500  40.700\n",
       "36    0.0    7.2292  23.000\n",
       "42    0.0    7.8958  28.600"
      ]
     },
     "execution_count": 26,
     "metadata": {},
     "output_type": "execute_result"
    }
   ],
   "source": [
    "#------------------------------------------------------------\n",
    "# import libraries\n",
    "from sklearn.impute import KNNImputer\n",
    "\n",
    "#------------------------------------------------------------\n",
    "# create some random data\n",
    "df = pd.read_csv(\"/kaggle/input/titanic/train.csv\")\n",
    "df.isnull().sum() # inspect nulls\n",
    "df.head()\n",
    "\n",
    "#------------------------------------------------------------\n",
    "# let's see KNNInputer in action\n",
    "knn_inputer = KNNImputer()\n",
    "\n",
    "X = df[[\"SibSp\", \"Fare\", \"Age\"]]\n",
    "nan_index = X[X[\"Age\"].isnull()].index\n",
    "\n",
    "print(\"Data with nans\")\n",
    "X[X.index.isin(nan_index)].head(10)\n",
    "\n",
    "print(\"Transformed data with no nans, and the values are based on the NN.\")\n",
    "X_transformed = pd.DataFrame(knn_inputer.fit_transform(X), columns = [\"SibSp\", \"Fare\", \"Age\"], index = X.index)\n",
    "X_transformed[X.index.isin(nan_index)].head(10)"
   ]
  },
  {
   "cell_type": "markdown",
   "execution_count": null,
   "metadata": {},
   "source": [
    "<a id = \"trick10\"></a>\n",
    "# Trick 10: Using random_state to reproduce results\n",
    "[Go back to the Table of Contents](#table_of_contents)"
   ]
  },
  {
   "cell_type": "code",
   "execution_count": 27,
   "metadata": {},
   "outputs": [
    {
     "name": "stdout",
     "output_type": "stream",
     "text": [
      "A sneak peak at our df.\n"
     ]
    },
    {
     "data": {
      "text/html": [
       "<div>\n",
       "<style scoped>\n",
       "    .dataframe tbody tr th:only-of-type {\n",
       "        vertical-align: middle;\n",
       "    }\n",
       "\n",
       "    .dataframe tbody tr th {\n",
       "        vertical-align: top;\n",
       "    }\n",
       "\n",
       "    .dataframe thead th {\n",
       "        text-align: right;\n",
       "    }\n",
       "</style>\n",
       "<table border=\"1\" class=\"dataframe\">\n",
       "  <thead>\n",
       "    <tr style=\"text-align: right;\">\n",
       "      <th></th>\n",
       "      <th>A</th>\n",
       "      <th>B</th>\n",
       "      <th>C</th>\n",
       "      <th>D</th>\n",
       "      <th>E</th>\n",
       "      <th>F</th>\n",
       "      <th>G</th>\n",
       "      <th>target</th>\n",
       "    </tr>\n",
       "  </thead>\n",
       "  <tbody>\n",
       "    <tr>\n",
       "      <th>0</th>\n",
       "      <td>12</td>\n",
       "      <td>9</td>\n",
       "      <td>11</td>\n",
       "      <td>3</td>\n",
       "      <td>18</td>\n",
       "      <td>19</td>\n",
       "      <td>1</td>\n",
       "      <td>1</td>\n",
       "    </tr>\n",
       "    <tr>\n",
       "      <th>1</th>\n",
       "      <td>12</td>\n",
       "      <td>11</td>\n",
       "      <td>11</td>\n",
       "      <td>1</td>\n",
       "      <td>17</td>\n",
       "      <td>10</td>\n",
       "      <td>2</td>\n",
       "      <td>1</td>\n",
       "    </tr>\n",
       "    <tr>\n",
       "      <th>2</th>\n",
       "      <td>5</td>\n",
       "      <td>13</td>\n",
       "      <td>9</td>\n",
       "      <td>4</td>\n",
       "      <td>6</td>\n",
       "      <td>1</td>\n",
       "      <td>11</td>\n",
       "      <td>0</td>\n",
       "    </tr>\n",
       "  </tbody>\n",
       "</table>\n",
       "</div>"
      ],
      "text/plain": [
       "    A   B   C  D   E   F   G  target\n",
       "0  12   9  11  3  18  19   1       1\n",
       "1  12  11  11  1  17  10   2       1\n",
       "2   5  13   9  4   6   1  11       0"
      ]
     },
     "execution_count": 27,
     "metadata": {},
     "output_type": "execute_result"
    },
    {
     "name": "stdout",
     "output_type": "stream",
     "text": [
      "First train test split.\n"
     ]
    },
    {
     "data": {
      "text/html": [
       "<div>\n",
       "<style scoped>\n",
       "    .dataframe tbody tr th:only-of-type {\n",
       "        vertical-align: middle;\n",
       "    }\n",
       "\n",
       "    .dataframe tbody tr th {\n",
       "        vertical-align: top;\n",
       "    }\n",
       "\n",
       "    .dataframe thead th {\n",
       "        text-align: right;\n",
       "    }\n",
       "</style>\n",
       "<table border=\"1\" class=\"dataframe\">\n",
       "  <thead>\n",
       "    <tr style=\"text-align: right;\">\n",
       "      <th></th>\n",
       "      <th>A</th>\n",
       "      <th>B</th>\n",
       "      <th>C</th>\n",
       "      <th>D</th>\n",
       "      <th>E</th>\n",
       "      <th>F</th>\n",
       "      <th>G</th>\n",
       "    </tr>\n",
       "  </thead>\n",
       "  <tbody>\n",
       "    <tr>\n",
       "      <th>10</th>\n",
       "      <td>18</td>\n",
       "      <td>14</td>\n",
       "      <td>5</td>\n",
       "      <td>3</td>\n",
       "      <td>14</td>\n",
       "      <td>19</td>\n",
       "      <td>14</td>\n",
       "    </tr>\n",
       "    <tr>\n",
       "      <th>16</th>\n",
       "      <td>7</td>\n",
       "      <td>14</td>\n",
       "      <td>12</td>\n",
       "      <td>19</td>\n",
       "      <td>15</td>\n",
       "      <td>17</td>\n",
       "      <td>5</td>\n",
       "    </tr>\n",
       "    <tr>\n",
       "      <th>13</th>\n",
       "      <td>2</td>\n",
       "      <td>16</td>\n",
       "      <td>16</td>\n",
       "      <td>7</td>\n",
       "      <td>10</td>\n",
       "      <td>14</td>\n",
       "      <td>17</td>\n",
       "    </tr>\n",
       "    <tr>\n",
       "      <th>19</th>\n",
       "      <td>6</td>\n",
       "      <td>10</td>\n",
       "      <td>13</td>\n",
       "      <td>3</td>\n",
       "      <td>15</td>\n",
       "      <td>15</td>\n",
       "      <td>19</td>\n",
       "    </tr>\n",
       "    <tr>\n",
       "      <th>15</th>\n",
       "      <td>1</td>\n",
       "      <td>13</td>\n",
       "      <td>15</td>\n",
       "      <td>2</td>\n",
       "      <td>7</td>\n",
       "      <td>9</td>\n",
       "      <td>2</td>\n",
       "    </tr>\n",
       "  </tbody>\n",
       "</table>\n",
       "</div>"
      ],
      "text/plain": [
       "     A   B   C   D   E   F   G\n",
       "10  18  14   5   3  14  19  14\n",
       "16   7  14  12  19  15  17   5\n",
       "13   2  16  16   7  10  14  17\n",
       "19   6  10  13   3  15  15  19\n",
       "15   1  13  15   2   7   9   2"
      ]
     },
     "execution_count": 27,
     "metadata": {},
     "output_type": "execute_result"
    },
    {
     "name": "stdout",
     "output_type": "stream",
     "text": [
      "Second train test split. Equal to the first one.\n"
     ]
    },
    {
     "data": {
      "text/html": [
       "<div>\n",
       "<style scoped>\n",
       "    .dataframe tbody tr th:only-of-type {\n",
       "        vertical-align: middle;\n",
       "    }\n",
       "\n",
       "    .dataframe tbody tr th {\n",
       "        vertical-align: top;\n",
       "    }\n",
       "\n",
       "    .dataframe thead th {\n",
       "        text-align: right;\n",
       "    }\n",
       "</style>\n",
       "<table border=\"1\" class=\"dataframe\">\n",
       "  <thead>\n",
       "    <tr style=\"text-align: right;\">\n",
       "      <th></th>\n",
       "      <th>A</th>\n",
       "      <th>B</th>\n",
       "      <th>C</th>\n",
       "      <th>D</th>\n",
       "      <th>E</th>\n",
       "      <th>F</th>\n",
       "      <th>G</th>\n",
       "    </tr>\n",
       "  </thead>\n",
       "  <tbody>\n",
       "    <tr>\n",
       "      <th>10</th>\n",
       "      <td>18</td>\n",
       "      <td>14</td>\n",
       "      <td>5</td>\n",
       "      <td>3</td>\n",
       "      <td>14</td>\n",
       "      <td>19</td>\n",
       "      <td>14</td>\n",
       "    </tr>\n",
       "    <tr>\n",
       "      <th>16</th>\n",
       "      <td>7</td>\n",
       "      <td>14</td>\n",
       "      <td>12</td>\n",
       "      <td>19</td>\n",
       "      <td>15</td>\n",
       "      <td>17</td>\n",
       "      <td>5</td>\n",
       "    </tr>\n",
       "    <tr>\n",
       "      <th>13</th>\n",
       "      <td>2</td>\n",
       "      <td>16</td>\n",
       "      <td>16</td>\n",
       "      <td>7</td>\n",
       "      <td>10</td>\n",
       "      <td>14</td>\n",
       "      <td>17</td>\n",
       "    </tr>\n",
       "    <tr>\n",
       "      <th>19</th>\n",
       "      <td>6</td>\n",
       "      <td>10</td>\n",
       "      <td>13</td>\n",
       "      <td>3</td>\n",
       "      <td>15</td>\n",
       "      <td>15</td>\n",
       "      <td>19</td>\n",
       "    </tr>\n",
       "    <tr>\n",
       "      <th>15</th>\n",
       "      <td>1</td>\n",
       "      <td>13</td>\n",
       "      <td>15</td>\n",
       "      <td>2</td>\n",
       "      <td>7</td>\n",
       "      <td>9</td>\n",
       "      <td>2</td>\n",
       "    </tr>\n",
       "  </tbody>\n",
       "</table>\n",
       "</div>"
      ],
      "text/plain": [
       "     A   B   C   D   E   F   G\n",
       "10  18  14   5   3  14  19  14\n",
       "16   7  14  12  19  15  17   5\n",
       "13   2  16  16   7  10  14  17\n",
       "19   6  10  13   3  15  15  19\n",
       "15   1  13  15   2   7   9   2"
      ]
     },
     "execution_count": 27,
     "metadata": {},
     "output_type": "execute_result"
    },
    {
     "data": {
      "text/plain": [
       "array([ True,  True,  True,  True,  True,  True,  True,  True,  True,\n",
       "        True,  True,  True,  True,  True,  True,  True,  True,  True])"
      ]
     },
     "execution_count": 27,
     "metadata": {},
     "output_type": "execute_result"
    },
    {
     "name": "stdout",
     "output_type": "stream",
     "text": [
      "Third train test split. Different than the others.\n"
     ]
    },
    {
     "data": {
      "text/html": [
       "<div>\n",
       "<style scoped>\n",
       "    .dataframe tbody tr th:only-of-type {\n",
       "        vertical-align: middle;\n",
       "    }\n",
       "\n",
       "    .dataframe tbody tr th {\n",
       "        vertical-align: top;\n",
       "    }\n",
       "\n",
       "    .dataframe thead th {\n",
       "        text-align: right;\n",
       "    }\n",
       "</style>\n",
       "<table border=\"1\" class=\"dataframe\">\n",
       "  <thead>\n",
       "    <tr style=\"text-align: right;\">\n",
       "      <th></th>\n",
       "      <th>A</th>\n",
       "      <th>B</th>\n",
       "      <th>C</th>\n",
       "      <th>D</th>\n",
       "      <th>E</th>\n",
       "      <th>F</th>\n",
       "      <th>G</th>\n",
       "    </tr>\n",
       "  </thead>\n",
       "  <tbody>\n",
       "    <tr>\n",
       "      <th>2</th>\n",
       "      <td>5</td>\n",
       "      <td>13</td>\n",
       "      <td>9</td>\n",
       "      <td>4</td>\n",
       "      <td>6</td>\n",
       "      <td>1</td>\n",
       "      <td>11</td>\n",
       "    </tr>\n",
       "    <tr>\n",
       "      <th>4</th>\n",
       "      <td>13</td>\n",
       "      <td>18</td>\n",
       "      <td>2</td>\n",
       "      <td>4</td>\n",
       "      <td>18</td>\n",
       "      <td>5</td>\n",
       "      <td>19</td>\n",
       "    </tr>\n",
       "    <tr>\n",
       "      <th>15</th>\n",
       "      <td>1</td>\n",
       "      <td>13</td>\n",
       "      <td>15</td>\n",
       "      <td>2</td>\n",
       "      <td>7</td>\n",
       "      <td>9</td>\n",
       "      <td>2</td>\n",
       "    </tr>\n",
       "    <tr>\n",
       "      <th>19</th>\n",
       "      <td>6</td>\n",
       "      <td>10</td>\n",
       "      <td>13</td>\n",
       "      <td>3</td>\n",
       "      <td>15</td>\n",
       "      <td>15</td>\n",
       "      <td>19</td>\n",
       "    </tr>\n",
       "    <tr>\n",
       "      <th>6</th>\n",
       "      <td>1</td>\n",
       "      <td>18</td>\n",
       "      <td>6</td>\n",
       "      <td>19</td>\n",
       "      <td>11</td>\n",
       "      <td>19</td>\n",
       "      <td>3</td>\n",
       "    </tr>\n",
       "  </tbody>\n",
       "</table>\n",
       "</div>"
      ],
      "text/plain": [
       "     A   B   C   D   E   F   G\n",
       "2    5  13   9   4   6   1  11\n",
       "4   13  18   2   4  18   5  19\n",
       "15   1  13  15   2   7   9   2\n",
       "19   6  10  13   3  15  15  19\n",
       "6    1  18   6  19  11  19   3"
      ]
     },
     "execution_count": 27,
     "metadata": {},
     "output_type": "execute_result"
    },
    {
     "data": {
      "text/plain": [
       "array([False, False, False,  True, False, False, False,  True, False,\n",
       "       False, False, False,  True, False, False, False, False, False])"
      ]
     },
     "execution_count": 27,
     "metadata": {},
     "output_type": "execute_result"
    }
   ],
   "source": [
    "#------------------------------------------------------------\n",
    "# import libraries\n",
    "from sklearn.model_selection import train_test_split\n",
    "\n",
    "#------------------------------------------------------------\n",
    "# create some random data\n",
    "\n",
    "df = generate_sample_data()\n",
    "target = [np.random.choice([0, 1]) for i in range(len(df))]\n",
    "df[\"target\"] = target\n",
    "print(\"A sneak peak at our df.\")\n",
    "df.head(3)\n",
    "\n",
    "#------------------------------------------------------------\n",
    "# train and target columns\n",
    "features = list(df.columns)[:-1] # all except the last one\n",
    "\n",
    "#------------------------------------------------------------\n",
    "# split nr 1 using random_state to reproduce results\n",
    "X_train1, X_test1, y_train1, y_test1 = train_test_split(df[features], df[\"target\"], test_size = 0.1, random_state = 175)\n",
    "\n",
    "#------------------------------------------------------------\n",
    "# split nr 2 using random_state to reproduce results\n",
    "X_train2, X_test2, y_train2, y_test2 = train_test_split(df[features], df[\"target\"], test_size = 0.1, random_state = 175)\n",
    "\n",
    "#------------------------------------------------------------\n",
    "# split nr 3 using with no random_state\n",
    "X_train3, X_test3, y_train3, y_test3 = train_test_split(df[features], df[\"target\"], test_size = 0.1)\n",
    "\n",
    "#------------------------------------------------------------\n",
    "# let's look at our results\n",
    "print(\"First train test split.\")\n",
    "X_train1.head()\n",
    "print(\"Second train test split. Equal to the first one.\")\n",
    "X_train2.head()\n",
    "X_train1.index == X_train2.index\n",
    "print(\"Third train test split. Different than the others.\")\n",
    "X_train3.head()\n",
    "X_train1.index == X_train3.index\n"
   ]
  },
  {
   "cell_type": "markdown",
   "execution_count": null,
   "metadata": {},
   "source": [
    "<a id = \"trick9\"></a>\n",
    "# Trick 9: Using missing values as a feature: SimpleImputer & add_indicator = True\n",
    "[Go back to the Table of Contents](#table_of_contents)"
   ]
  },
  {
   "cell_type": "code",
   "execution_count": 28,
   "metadata": {},
   "outputs": [
    {
     "name": "stdout",
     "output_type": "stream",
     "text": [
      "Train data\n"
     ]
    },
    {
     "data": {
      "text/html": [
       "<div>\n",
       "<style scoped>\n",
       "    .dataframe tbody tr th:only-of-type {\n",
       "        vertical-align: middle;\n",
       "    }\n",
       "\n",
       "    .dataframe tbody tr th {\n",
       "        vertical-align: top;\n",
       "    }\n",
       "\n",
       "    .dataframe thead th {\n",
       "        text-align: right;\n",
       "    }\n",
       "</style>\n",
       "<table border=\"1\" class=\"dataframe\">\n",
       "  <thead>\n",
       "    <tr style=\"text-align: right;\">\n",
       "      <th></th>\n",
       "      <th>Age</th>\n",
       "    </tr>\n",
       "  </thead>\n",
       "  <tbody>\n",
       "    <tr>\n",
       "      <th>0</th>\n",
       "      <td>10.0</td>\n",
       "    </tr>\n",
       "    <tr>\n",
       "      <th>1</th>\n",
       "      <td>20.0</td>\n",
       "    </tr>\n",
       "    <tr>\n",
       "      <th>2</th>\n",
       "      <td>NaN</td>\n",
       "    </tr>\n",
       "    <tr>\n",
       "      <th>3</th>\n",
       "      <td>30.0</td>\n",
       "    </tr>\n",
       "    <tr>\n",
       "      <th>4</th>\n",
       "      <td>15.0</td>\n",
       "    </tr>\n",
       "    <tr>\n",
       "      <th>5</th>\n",
       "      <td>10.0</td>\n",
       "    </tr>\n",
       "    <tr>\n",
       "      <th>6</th>\n",
       "      <td>40.0</td>\n",
       "    </tr>\n",
       "    <tr>\n",
       "      <th>7</th>\n",
       "      <td>10.0</td>\n",
       "    </tr>\n",
       "    <tr>\n",
       "      <th>8</th>\n",
       "      <td>NaN</td>\n",
       "    </tr>\n",
       "  </tbody>\n",
       "</table>\n",
       "</div>"
      ],
      "text/plain": [
       "    Age\n",
       "0  10.0\n",
       "1  20.0\n",
       "2   NaN\n",
       "3  30.0\n",
       "4  15.0\n",
       "5  10.0\n",
       "6  40.0\n",
       "7  10.0\n",
       "8   NaN"
      ]
     },
     "execution_count": 28,
     "metadata": {},
     "output_type": "execute_result"
    },
    {
     "data": {
      "text/plain": [
       "array([[10.        ],\n",
       "       [20.        ],\n",
       "       [19.28571429],\n",
       "       [30.        ],\n",
       "       [15.        ],\n",
       "       [10.        ],\n",
       "       [40.        ],\n",
       "       [10.        ],\n",
       "       [19.28571429]])"
      ]
     },
     "execution_count": 28,
     "metadata": {},
     "output_type": "execute_result"
    },
    {
     "name": "stdout",
     "output_type": "stream",
     "text": [
      "Notice aditional column with an indicator of 1 next to the previously missing values\n"
     ]
    },
    {
     "data": {
      "text/plain": [
       "array([[10.        ,  0.        ],\n",
       "       [20.        ,  0.        ],\n",
       "       [19.28571429,  1.        ],\n",
       "       [30.        ,  0.        ],\n",
       "       [15.        ,  0.        ],\n",
       "       [10.        ,  0.        ],\n",
       "       [40.        ,  0.        ],\n",
       "       [10.        ,  0.        ],\n",
       "       [19.28571429,  1.        ]])"
      ]
     },
     "execution_count": 28,
     "metadata": {},
     "output_type": "execute_result"
    }
   ],
   "source": [
    "#------------------------------------------------------------\n",
    "# import the libraries\n",
    "from sklearn.impute import SimpleImputer\n",
    "\n",
    "#------------------------------------------------------------\n",
    "# create some train and test data\n",
    "\n",
    "# create a train df\n",
    "d = {\n",
    "\"Age\":[10, 20, np.nan, 30, 15, 10, 40, 10, np.nan]\n",
    "}\n",
    "\n",
    "print(\"Train data\")\n",
    "df_train = pd.DataFrame(d)\n",
    "df_train\n",
    "\n",
    "#------------------------------------------------------------\n",
    "# Sometimes there is a relathionship between missing values and the target\n",
    "# We can use this information creating a new features while performing an imputation of a missing values\n",
    "\n",
    "# normal SimpleImputer()\n",
    "imputer = SimpleImputer()\n",
    "df_transformed = imputer.fit_transform(df_train)\n",
    "df_transformed\n",
    "\n",
    "# SimpleImputer() with the parameter add_indicator\n",
    "print(\"Notice aditional column with an indicator of 1 next to the previously missing values\")\n",
    "imputer = SimpleImputer(add_indicator = True)\n",
    "df_transformed = imputer.fit_transform(df_train)\n",
    "df_transformed\n"
   ]
  },
  {
   "cell_type": "markdown",
   "execution_count": null,
   "metadata": {},
   "source": [
    "<a id = \"trick8\"></a>\n",
    "# Trick 8: Using make_pipeline in a ML project\n",
    "[Go back to the Table of Contents](#table_of_contents)"
   ]
  },
  {
   "cell_type": "code",
   "execution_count": 29,
   "metadata": {},
   "outputs": [
    {
     "name": "stdout",
     "output_type": "stream",
     "text": [
      "Train data\n"
     ]
    },
    {
     "data": {
      "text/html": [
       "<div>\n",
       "<style scoped>\n",
       "    .dataframe tbody tr th:only-of-type {\n",
       "        vertical-align: middle;\n",
       "    }\n",
       "\n",
       "    .dataframe tbody tr th {\n",
       "        vertical-align: top;\n",
       "    }\n",
       "\n",
       "    .dataframe thead th {\n",
       "        text-align: right;\n",
       "    }\n",
       "</style>\n",
       "<table border=\"1\" class=\"dataframe\">\n",
       "  <thead>\n",
       "    <tr style=\"text-align: right;\">\n",
       "      <th></th>\n",
       "      <th>feat1</th>\n",
       "      <th>feat2</th>\n",
       "      <th>target</th>\n",
       "    </tr>\n",
       "  </thead>\n",
       "  <tbody>\n",
       "    <tr>\n",
       "      <th>0</th>\n",
       "      <td>10.0</td>\n",
       "      <td>25</td>\n",
       "      <td>A</td>\n",
       "    </tr>\n",
       "    <tr>\n",
       "      <th>1</th>\n",
       "      <td>20.0</td>\n",
       "      <td>20</td>\n",
       "      <td>A</td>\n",
       "    </tr>\n",
       "    <tr>\n",
       "      <th>2</th>\n",
       "      <td>NaN</td>\n",
       "      <td>5</td>\n",
       "      <td>B</td>\n",
       "    </tr>\n",
       "    <tr>\n",
       "      <th>3</th>\n",
       "      <td>2.0</td>\n",
       "      <td>3</td>\n",
       "      <td>B</td>\n",
       "    </tr>\n",
       "  </tbody>\n",
       "</table>\n",
       "</div>"
      ],
      "text/plain": [
       "   feat1  feat2 target\n",
       "0   10.0     25      A\n",
       "1   20.0     20      A\n",
       "2    NaN      5      B\n",
       "3    2.0      3      B"
      ]
     },
     "execution_count": 29,
     "metadata": {},
     "output_type": "execute_result"
    },
    {
     "name": "stdout",
     "output_type": "stream",
     "text": [
      "Test data\n"
     ]
    },
    {
     "data": {
      "text/html": [
       "<div>\n",
       "<style scoped>\n",
       "    .dataframe tbody tr th:only-of-type {\n",
       "        vertical-align: middle;\n",
       "    }\n",
       "\n",
       "    .dataframe tbody tr th {\n",
       "        vertical-align: top;\n",
       "    }\n",
       "\n",
       "    .dataframe thead th {\n",
       "        text-align: right;\n",
       "    }\n",
       "</style>\n",
       "<table border=\"1\" class=\"dataframe\">\n",
       "  <thead>\n",
       "    <tr style=\"text-align: right;\">\n",
       "      <th></th>\n",
       "      <th>feat1</th>\n",
       "      <th>feat2</th>\n",
       "    </tr>\n",
       "  </thead>\n",
       "  <tbody>\n",
       "    <tr>\n",
       "      <th>0</th>\n",
       "      <td>30</td>\n",
       "      <td>12.0</td>\n",
       "    </tr>\n",
       "    <tr>\n",
       "      <th>1</th>\n",
       "      <td>5</td>\n",
       "      <td>10.0</td>\n",
       "    </tr>\n",
       "    <tr>\n",
       "      <th>2</th>\n",
       "      <td>15</td>\n",
       "      <td>NaN</td>\n",
       "    </tr>\n",
       "  </tbody>\n",
       "</table>\n",
       "</div>"
      ],
      "text/plain": [
       "   feat1  feat2\n",
       "0     30   12.0\n",
       "1      5   10.0\n",
       "2     15    NaN"
      ]
     },
     "execution_count": 29,
     "metadata": {},
     "output_type": "execute_result"
    },
    {
     "data": {
      "text/plain": [
       "Pipeline(memory=None,\n",
       "         steps=[('simpleimputer',\n",
       "                 SimpleImputer(add_indicator=False, copy=True, fill_value=None,\n",
       "                               missing_values=nan, strategy='mean',\n",
       "                               verbose=0)),\n",
       "                ('logisticregression',\n",
       "                 LogisticRegression(C=1.0, class_weight=None, dual=False,\n",
       "                                    fit_intercept=True, intercept_scaling=1,\n",
       "                                    l1_ratio=None, max_iter=100,\n",
       "                                    multi_class='auto', n_jobs=None,\n",
       "                                    penalty='l2', random_state=None,\n",
       "                                    solver='lbfgs', tol=0.0001, verbose=0,\n",
       "                                    warm_start=False))],\n",
       "         verbose=False)"
      ]
     },
     "execution_count": 29,
     "metadata": {},
     "output_type": "execute_result"
    },
    {
     "data": {
      "text/plain": [
       "array(['A', 'B', 'A'], dtype=object)"
      ]
     },
     "execution_count": 29,
     "metadata": {},
     "output_type": "execute_result"
    }
   ],
   "source": [
    "#------------------------------------------------------------\n",
    "# import the libraries\n",
    "from sklearn.impute import SimpleImputer\n",
    "from sklearn.linear_model import LogisticRegression\n",
    "from sklearn.pipeline import make_pipeline\n",
    "\n",
    "#------------------------------------------------------------\n",
    "# create some train and test data\n",
    "\n",
    "# create a train df\n",
    "d = {\n",
    "\"feat1\":[10, 20, np.nan, 2],\n",
    "\"feat2\":[25, 20, 5, 3],\n",
    "\"target\":[\"A\", \"A\", \"B\", \"B\"]\n",
    "}\n",
    "\n",
    "print(\"Train data\")\n",
    "df_train = pd.DataFrame(d)\n",
    "df_train\n",
    "\n",
    "# create a test df\n",
    "d = {\n",
    "\"feat1\":[30, 5, 15],\n",
    "\"feat2\":[12, 10, np.nan]\n",
    "}\n",
    "\n",
    "print(\"Test data\")\n",
    "df_test = pd.DataFrame(d)\n",
    "df_test\n",
    "\n",
    "#------------------------------------------------------------\n",
    "# simple ML project step by step\n",
    "\n",
    "# create each instance\n",
    "si = SimpleImputer()\n",
    "model = LogisticRegression()\n",
    "pipeline = make_pipeline(si, model)\n",
    "\n",
    "# separate the data between target and features\n",
    "features = [\"feat1\", \"feat2\"]\n",
    "X_train, y_train = df_train[features], df_train[\"target\"]\n",
    "X_test = df_test[features]\n",
    "\n",
    "#------------------------------------------------------------\n",
    "# use pipeline to fit and predict\n",
    "\n",
    "# First pipeline will use the SimpleImputer to imputer the missing values\n",
    "# Then it will train using LogisticRegression\n",
    "pipeline.fit(X_train, y_train)\n",
    "\n",
    "# When used pipeline to predict, it will do the same steps as in fit\n",
    "pipeline.predict(X_test)"
   ]
  },
  {
   "cell_type": "markdown",
   "execution_count": null,
   "metadata": {},
   "source": [
    "<a id = \"trick7\"></a>\n",
    "# Trick 7: Handle new data while using OneHotEncoder\n",
    "[Go back to the Table of Contents](#table_of_contents)"
   ]
  },
  {
   "cell_type": "code",
   "execution_count": 30,
   "metadata": {},
   "outputs": [
    {
     "data": {
      "text/html": [
       "<div>\n",
       "<style scoped>\n",
       "    .dataframe tbody tr th:only-of-type {\n",
       "        vertical-align: middle;\n",
       "    }\n",
       "\n",
       "    .dataframe tbody tr th {\n",
       "        vertical-align: top;\n",
       "    }\n",
       "\n",
       "    .dataframe thead th {\n",
       "        text-align: right;\n",
       "    }\n",
       "</style>\n",
       "<table border=\"1\" class=\"dataframe\">\n",
       "  <thead>\n",
       "    <tr style=\"text-align: right;\">\n",
       "      <th></th>\n",
       "      <th>Categorical</th>\n",
       "    </tr>\n",
       "  </thead>\n",
       "  <tbody>\n",
       "    <tr>\n",
       "      <th>0</th>\n",
       "      <td>A</td>\n",
       "    </tr>\n",
       "    <tr>\n",
       "      <th>1</th>\n",
       "      <td>A</td>\n",
       "    </tr>\n",
       "    <tr>\n",
       "      <th>2</th>\n",
       "      <td>B</td>\n",
       "    </tr>\n",
       "    <tr>\n",
       "      <th>3</th>\n",
       "      <td>C</td>\n",
       "    </tr>\n",
       "  </tbody>\n",
       "</table>\n",
       "</div>"
      ],
      "text/plain": [
       "  Categorical\n",
       "0           A\n",
       "1           A\n",
       "2           B\n",
       "3           C"
      ]
     },
     "execution_count": 30,
     "metadata": {},
     "output_type": "execute_result"
    },
    {
     "name": "stdout",
     "output_type": "stream",
     "text": [
      "fit_transform using OneHotEncoder.\n"
     ]
    },
    {
     "data": {
      "text/plain": [
       "array([[1., 0., 0.],\n",
       "       [1., 0., 0.],\n",
       "       [0., 1., 0.],\n",
       "       [0., 0., 1.]])"
      ]
     },
     "execution_count": 30,
     "metadata": {},
     "output_type": "execute_result"
    },
    {
     "data": {
      "text/html": [
       "<div>\n",
       "<style scoped>\n",
       "    .dataframe tbody tr th:only-of-type {\n",
       "        vertical-align: middle;\n",
       "    }\n",
       "\n",
       "    .dataframe tbody tr th {\n",
       "        vertical-align: top;\n",
       "    }\n",
       "\n",
       "    .dataframe thead th {\n",
       "        text-align: right;\n",
       "    }\n",
       "</style>\n",
       "<table border=\"1\" class=\"dataframe\">\n",
       "  <thead>\n",
       "    <tr style=\"text-align: right;\">\n",
       "      <th></th>\n",
       "      <th>Categorical</th>\n",
       "    </tr>\n",
       "  </thead>\n",
       "  <tbody>\n",
       "    <tr>\n",
       "      <th>0</th>\n",
       "      <td>A</td>\n",
       "    </tr>\n",
       "    <tr>\n",
       "      <th>1</th>\n",
       "      <td>A</td>\n",
       "    </tr>\n",
       "    <tr>\n",
       "      <th>2</th>\n",
       "      <td>B</td>\n",
       "    </tr>\n",
       "    <tr>\n",
       "      <th>3</th>\n",
       "      <td>C</td>\n",
       "    </tr>\n",
       "    <tr>\n",
       "      <th>4</th>\n",
       "      <td>D</td>\n",
       "    </tr>\n",
       "  </tbody>\n",
       "</table>\n",
       "</div>"
      ],
      "text/plain": [
       "  Categorical\n",
       "0           A\n",
       "1           A\n",
       "2           B\n",
       "3           C\n",
       "4           D"
      ]
     },
     "execution_count": 30,
     "metadata": {},
     "output_type": "execute_result"
    },
    {
     "name": "stdout",
     "output_type": "stream",
     "text": [
      "transform using OneHotEncoder. Notice that we have a line with zeros for categorical value of D\n"
     ]
    },
    {
     "data": {
      "text/plain": [
       "array([[1., 0., 0.],\n",
       "       [1., 0., 0.],\n",
       "       [0., 1., 0.],\n",
       "       [0., 0., 1.],\n",
       "       [0., 0., 0.]])"
      ]
     },
     "execution_count": 30,
     "metadata": {},
     "output_type": "execute_result"
    }
   ],
   "source": [
    "#------------------------------------------------------------\n",
    "# create a train df\n",
    "d = {\n",
    "\"Categorical\":[\"A\", \"A\", \"B\", \"C\"]\n",
    "}\n",
    "\n",
    "df_train = pd.DataFrame(d)\n",
    "df_train\n",
    "\n",
    "#------------------------------------------------------------\n",
    "# import the libraries\n",
    "from sklearn.preprocessing import OneHotEncoder\n",
    "\n",
    "#------------------------------------------------------------\n",
    "# transform data during train part\n",
    "print(\"fit_transform using OneHotEncoder.\")\n",
    "ohe = OneHotEncoder(sparse = False, handle_unknown = \"ignore\") # if you don't put false, you will get a sparse matrix object\n",
    "X_train = ohe.fit_transform(df_train[[\"Categorical\"]])\n",
    "X_train\n",
    "\n",
    "#------------------------------------------------------------\n",
    "# create a test df\n",
    "\n",
    "d = {\n",
    "\"Categorical\":[\"A\", \"A\", \"B\", \"C\", \"D\"] # new value, D, previously not seen in train\n",
    "}\n",
    "\n",
    "df_test = pd.DataFrame(d)\n",
    "df_test\n",
    "\n",
    "\n",
    "print(\"transform using OneHotEncoder. Notice that we have a line with zeros for categorical value of D\")\n",
    "X_test = ohe.transform(df_test[[\"Categorical\"]])\n",
    "X_test\n"
   ]
  },
  {
   "cell_type": "markdown",
   "execution_count": null,
   "metadata": {},
   "source": [
    "<a id = \"trick6\"></a>\n",
    "# Trick 6: Common ways to encode categorical features: OneHotEncoder, OrdinalEncoder\n",
    "[Go back to the Table of Contents](#table_of_contents)"
   ]
  },
  {
   "cell_type": "code",
   "execution_count": 31,
   "metadata": {},
   "outputs": [
    {
     "data": {
      "text/html": [
       "<div>\n",
       "<style scoped>\n",
       "    .dataframe tbody tr th:only-of-type {\n",
       "        vertical-align: middle;\n",
       "    }\n",
       "\n",
       "    .dataframe tbody tr th {\n",
       "        vertical-align: top;\n",
       "    }\n",
       "\n",
       "    .dataframe thead th {\n",
       "        text-align: right;\n",
       "    }\n",
       "</style>\n",
       "<table border=\"1\" class=\"dataframe\">\n",
       "  <thead>\n",
       "    <tr style=\"text-align: right;\">\n",
       "      <th></th>\n",
       "      <th>Shape</th>\n",
       "      <th>Class</th>\n",
       "      <th>Size</th>\n",
       "    </tr>\n",
       "  </thead>\n",
       "  <tbody>\n",
       "    <tr>\n",
       "      <th>0</th>\n",
       "      <td>square</td>\n",
       "      <td>third</td>\n",
       "      <td>S</td>\n",
       "    </tr>\n",
       "    <tr>\n",
       "      <th>1</th>\n",
       "      <td>square</td>\n",
       "      <td>first</td>\n",
       "      <td>S</td>\n",
       "    </tr>\n",
       "    <tr>\n",
       "      <th>2</th>\n",
       "      <td>oval</td>\n",
       "      <td>second</td>\n",
       "      <td>L</td>\n",
       "    </tr>\n",
       "    <tr>\n",
       "      <th>3</th>\n",
       "      <td>circle</td>\n",
       "      <td>third</td>\n",
       "      <td>XL</td>\n",
       "    </tr>\n",
       "  </tbody>\n",
       "</table>\n",
       "</div>"
      ],
      "text/plain": [
       "    Shape   Class Size\n",
       "0  square   third    S\n",
       "1  square   first    S\n",
       "2    oval  second    L\n",
       "3  circle   third   XL"
      ]
     },
     "execution_count": 31,
     "metadata": {},
     "output_type": "execute_result"
    },
    {
     "name": "stdout",
     "output_type": "stream",
     "text": [
      "Transform categorical data using OneHotEncoder\n"
     ]
    },
    {
     "data": {
      "text/plain": [
       "array([[0., 0., 1.],\n",
       "       [0., 0., 1.],\n",
       "       [0., 1., 0.],\n",
       "       [1., 0., 0.]])"
      ]
     },
     "execution_count": 31,
     "metadata": {},
     "output_type": "execute_result"
    },
    {
     "name": "stdout",
     "output_type": "stream",
     "text": [
      "Transform categorical data using OrdinalEncoder\n",
      "When using OrdinalEncoder, your data has to have a order: like first class, second class, third class\n"
     ]
    },
    {
     "data": {
      "text/plain": [
       "array([[2., 0.],\n",
       "       [0., 0.],\n",
       "       [1., 2.],\n",
       "       [2., 3.]])"
      ]
     },
     "execution_count": 31,
     "metadata": {},
     "output_type": "execute_result"
    }
   ],
   "source": [
    "#------------------------------------------------------------\n",
    "# create a df\n",
    "d = {\n",
    "\"Shape\":[\"square\", \"square\", \"oval\", \"circle\"],\n",
    "\"Class\":[\"third\", \"first\", \"second\", \"third\"],\n",
    "\"Size\":[\"S\", \"S\", \"L\", \"XL\"]\n",
    "}\n",
    "\n",
    "df = pd.DataFrame(d)\n",
    "df\n",
    "\n",
    "#------------------------------------------------------------\n",
    "# import the libraries\n",
    "from sklearn.preprocessing import OneHotEncoder\n",
    "from sklearn.preprocessing import OrdinalEncoder\n",
    "\n",
    "#------------------------------------------------------------\n",
    "# transform data using OneHotEncoder\n",
    "print(\"Transform categorical data using OneHotEncoder\")\n",
    "ohe = OneHotEncoder(sparse = False) # if you don't put false, you will get a sparse matrix object\n",
    "shaped_transformed = ohe.fit_transform(df[[\"Shape\"]]) # if you pass as a series, you will need to reshape the data. Notice the double square bracket\n",
    "shaped_transformed\n",
    "\n",
    "#------------------------------------------------------------\n",
    "# transform data using OrdinalEncoder\n",
    "print(\"Transform categorical data using OrdinalEncoder\")\n",
    "print(\"When using OrdinalEncoder, your data has to have a order: like first class, second class, third class\")\n",
    "oe = OrdinalEncoder(categories = [[\"first\", \"second\", \"third\"], # order for the column Class\n",
    "                                  [\"S\", \"M\", \"L\", \"XL\"]]) # order for the column Size\n",
    "categorical_ordinal_transformed = oe.fit_transform(df[[\"Class\", \"Size\"]])\n",
    "categorical_ordinal_transformed"
   ]
  },
  {
   "cell_type": "markdown",
   "execution_count": null,
   "metadata": {},
   "source": [
    "<a id = \"trick5\"></a>\n",
    "# Trick 5: Benefits of using sklearn for preprocessing and not pandas\n",
    "[Go back to the Table of Contents](#table_of_contents)"
   ]
  },
  {
   "cell_type": "markdown",
   "execution_count": null,
   "metadata": {},
   "source": [
    "### Reasons to use sklearn to ML preprocessing and not pandas\n",
    "\n",
    "1. You can cross-validate the entire workflow\n",
    "2. You can grid search model & preprocessing hyperparameters\n",
    "3. Avoids adding new columns to the source DataFrame\n",
    "4. pandas lacks separate fit/transform steps to prevent data leakage"
   ]
  },
  {
   "cell_type": "markdown",
   "execution_count": null,
   "metadata": {},
   "source": [
    "<a id = \"trick4\"></a>\n",
    "# Trick 4: When to use fit_transform and transform methods\n",
    "[Go back to the Table of Contents](#table_of_contents)"
   ]
  },
  {
   "cell_type": "markdown",
   "execution_count": null,
   "metadata": {},
   "source": [
    "### ***Use \"fit_transform\" on training data, but \"transform\" (only) on testing/new data.***\n",
    "\n",
    "Applies the same transformations to both sets of data, which creates consistent columns and prevents data leakage!"
   ]
  },
  {
   "cell_type": "markdown",
   "execution_count": null,
   "metadata": {},
   "source": [
    "<a id = \"trick3\"></a>\n",
    "# Trick 3: Difference between fit and transform method\n",
    "[Go back to the Table of Contents](#table_of_contents)"
   ]
  },
  {
   "cell_type": "markdown",
   "execution_count": null,
   "metadata": {},
   "source": [
    "### Q: What is the difference between the \"fit\" and \"transform\" methods?\n",
    "\n",
    "#### ***\"fit\"***: transformer learns something about the data\n",
    "\n",
    "#### ***\"transform\":*** it uses what it learned to do the data transformation\n",
    "\n",
    "------\n",
    "\n",
    "***CountVectorizer: ***\n",
    "\n",
    "fit: learns the vocabulary\n",
    "\n",
    "transform: creates a document term matrix using the vocabulary\n",
    "\n",
    "------\n",
    "\n",
    "***SimpleImputer: ***\n",
    "\n",
    "fit: learns the value to impute\n",
    "\n",
    "transform: fills the missing value with the value to impute\n",
    "\n",
    "------\n",
    "\n",
    "***StandartScaler: ***\n",
    "\n",
    "fit: learns the mean and scale of each feature\n",
    "\n",
    "transform: standarizes the features using the mean and scale\n",
    "\n",
    "------\n",
    "\n",
    "***HashingVectorizer: ***\n",
    "\n",
    "fit: if not used, then it's known as \"stateless\" transformer\n",
    "\n",
    "transform: creates a document term matrix using a hash of the token\n"
   ]
  },
  {
   "cell_type": "markdown",
   "execution_count": null,
   "metadata": {},
   "source": [
    "<a id = \"trick2\"></a>\n",
    "# Trick 2: Seven ways to select columns using ColumnsTransformer\n",
    "[Go back to the Table of Contents](#table_of_contents)"
   ]
  },
  {
   "cell_type": "code",
   "execution_count": 32,
   "metadata": {},
   "outputs": [
    {
     "data": {
      "text/html": [
       "<div>\n",
       "<style scoped>\n",
       "    .dataframe tbody tr th:only-of-type {\n",
       "        vertical-align: middle;\n",
       "    }\n",
       "\n",
       "    .dataframe tbody tr th {\n",
       "        vertical-align: top;\n",
       "    }\n",
       "\n",
       "    .dataframe thead th {\n",
       "        text-align: right;\n",
       "    }\n",
       "</style>\n",
       "<table border=\"1\" class=\"dataframe\">\n",
       "  <thead>\n",
       "    <tr style=\"text-align: right;\">\n",
       "      <th></th>\n",
       "      <th>Fare</th>\n",
       "      <th>Embarked</th>\n",
       "      <th>Sex</th>\n",
       "      <th>Age</th>\n",
       "    </tr>\n",
       "  </thead>\n",
       "  <tbody>\n",
       "    <tr>\n",
       "      <th>0</th>\n",
       "      <td>7.2500</td>\n",
       "      <td>S</td>\n",
       "      <td>male</td>\n",
       "      <td>NaN</td>\n",
       "    </tr>\n",
       "    <tr>\n",
       "      <th>1</th>\n",
       "      <td>71.2833</td>\n",
       "      <td>C</td>\n",
       "      <td>female</td>\n",
       "      <td>38.0</td>\n",
       "    </tr>\n",
       "    <tr>\n",
       "      <th>2</th>\n",
       "      <td>7.9250</td>\n",
       "      <td>S</td>\n",
       "      <td>female</td>\n",
       "      <td>26.0</td>\n",
       "    </tr>\n",
       "    <tr>\n",
       "      <th>3</th>\n",
       "      <td>53.1000</td>\n",
       "      <td>S</td>\n",
       "      <td>female</td>\n",
       "      <td>35.0</td>\n",
       "    </tr>\n",
       "    <tr>\n",
       "      <th>4</th>\n",
       "      <td>8.0500</td>\n",
       "      <td>S</td>\n",
       "      <td>male</td>\n",
       "      <td>35.0</td>\n",
       "    </tr>\n",
       "  </tbody>\n",
       "</table>\n",
       "</div>"
      ],
      "text/plain": [
       "      Fare Embarked     Sex   Age\n",
       "0   7.2500        S    male   NaN\n",
       "1  71.2833        C  female  38.0\n",
       "2   7.9250        S  female  26.0\n",
       "3  53.1000        S  female  35.0\n",
       "4   8.0500        S    male  35.0"
      ]
     },
     "execution_count": 32,
     "metadata": {},
     "output_type": "execute_result"
    },
    {
     "name": "stdout",
     "output_type": "stream",
     "text": [
      "Select the column by name\n"
     ]
    },
    {
     "data": {
      "text/plain": [
       "array([[0., 1., 0., 1.],\n",
       "       [1., 0., 1., 0.],\n",
       "       [0., 1., 1., 0.],\n",
       "       [0., 1., 1., 0.],\n",
       "       [0., 1., 0., 1.]])"
      ]
     },
     "execution_count": 32,
     "metadata": {},
     "output_type": "execute_result"
    },
    {
     "name": "stdout",
     "output_type": "stream",
     "text": [
      "Select the column by position\n"
     ]
    },
    {
     "data": {
      "text/plain": [
       "array([[0., 1., 0., 1.],\n",
       "       [1., 0., 1., 0.],\n",
       "       [0., 1., 1., 0.],\n",
       "       [0., 1., 1., 0.],\n",
       "       [0., 1., 0., 1.]])"
      ]
     },
     "execution_count": 32,
     "metadata": {},
     "output_type": "execute_result"
    },
    {
     "name": "stdout",
     "output_type": "stream",
     "text": [
      "Select the column using slice\n"
     ]
    },
    {
     "data": {
      "text/plain": [
       "array([[0., 1., 0., 1.],\n",
       "       [1., 0., 1., 0.],\n",
       "       [0., 1., 1., 0.],\n",
       "       [0., 1., 1., 0.],\n",
       "       [0., 1., 0., 1.]])"
      ]
     },
     "execution_count": 32,
     "metadata": {},
     "output_type": "execute_result"
    },
    {
     "name": "stdout",
     "output_type": "stream",
     "text": [
      "Select the column using a boolean mask\n"
     ]
    },
    {
     "data": {
      "text/plain": [
       "array([[0., 1., 0., 1.],\n",
       "       [1., 0., 1., 0.],\n",
       "       [0., 1., 1., 0.],\n",
       "       [0., 1., 1., 0.],\n",
       "       [0., 1., 0., 1.]])"
      ]
     },
     "execution_count": 32,
     "metadata": {},
     "output_type": "execute_result"
    },
    {
     "name": "stdout",
     "output_type": "stream",
     "text": [
      "Select the column using using make_column_selector and regex. New in pandas 0.22\n"
     ]
    },
    {
     "data": {
      "text/plain": [
       "array([[0., 1., 0., 1.],\n",
       "       [1., 0., 1., 0.],\n",
       "       [0., 1., 1., 0.],\n",
       "       [0., 1., 1., 0.],\n",
       "       [0., 1., 0., 1.]])"
      ]
     },
     "execution_count": 32,
     "metadata": {},
     "output_type": "execute_result"
    },
    {
     "name": "stdout",
     "output_type": "stream",
     "text": [
      "Select the column using using make_column_selector and dtype_include. New in pandas 0.22\n"
     ]
    },
    {
     "data": {
      "text/plain": [
       "array([[0., 1., 0., 1.],\n",
       "       [1., 0., 1., 0.],\n",
       "       [0., 1., 1., 0.],\n",
       "       [0., 1., 1., 0.],\n",
       "       [0., 1., 0., 1.]])"
      ]
     },
     "execution_count": 32,
     "metadata": {},
     "output_type": "execute_result"
    },
    {
     "name": "stdout",
     "output_type": "stream",
     "text": [
      "Select the column using using make_column_selector and dtype_exclude. New in pandas 0.22\n"
     ]
    },
    {
     "data": {
      "text/plain": [
       "array([[0., 1., 0., 1.],\n",
       "       [1., 0., 1., 0.],\n",
       "       [0., 1., 1., 0.],\n",
       "       [0., 1., 1., 0.],\n",
       "       [0., 1., 0., 1.]])"
      ]
     },
     "execution_count": 32,
     "metadata": {},
     "output_type": "execute_result"
    }
   ],
   "source": [
    "#------------------------------------------------------------\n",
    "# import data\n",
    "df = pd.read_csv(\"/kaggle/input/titanic/train.csv\")\n",
    "\n",
    "#------------------------------------------------------------\n",
    "# select columns to transform\n",
    "X = df[[\"Fare\", \"Embarked\", \"Sex\", \"Age\"]].head()\n",
    "X[\"Age\"].iloc[0] = np.nan # create a missing values\n",
    "X\n",
    "\n",
    "#------------------------------------------------------------\n",
    "# import the libraries\n",
    "from sklearn.preprocessing import OneHotEncoder\n",
    "from sklearn.compose import make_column_selector\n",
    "from sklearn.compose import make_column_transformer\n",
    "\n",
    "#------------------------------------------------------------\n",
    "# instanciate the classes\n",
    "ohe = OneHotEncoder()\n",
    "\n",
    "#------------------------------------------------------------\n",
    "# create the pipeline and select the columns by name\n",
    "\n",
    "print(\"Select the column by name\")\n",
    "\n",
    "ct = make_column_transformer(\n",
    "(ohe, [\"Embarked\", \"Sex\"])# if you have null values it will give and error. You must first fill those values before doing an ohe\n",
    ")\n",
    "\n",
    "# fit_transform the columns\n",
    "X_transformed = ct.fit_transform(X) \n",
    "X_transformed\n",
    "\n",
    "#------------------------------------------------------------\n",
    "# create the pipeline and select the columns by position\n",
    "\n",
    "print(\"Select the column by position\")\n",
    "\n",
    "ct = make_column_transformer(\n",
    "(ohe, [1, 2])# if you have null values it will give and error. You must first fill those values before doing an ohe\n",
    ")\n",
    "\n",
    "# fit_transform the columns\n",
    "X_transformed = ct.fit_transform(X) \n",
    "X_transformed\n",
    "\n",
    "#------------------------------------------------------------\n",
    "# create the pipeline and select the columns using slice\n",
    "\n",
    "print(\"Select the column using slice\")\n",
    "\n",
    "ct = make_column_transformer(\n",
    "(ohe, slice(1, 3))# if you have null values it will give and error. You must first fill those values before doing an ohe\n",
    ")\n",
    "\n",
    "# fit_transform the columns\n",
    "X_transformed = ct.fit_transform(X) \n",
    "X_transformed\n",
    "\n",
    "#------------------------------------------------------------\n",
    "# create the pipeline and select the columns using a boolean mask\n",
    "\n",
    "print(\"Select the column using a boolean mask\")\n",
    "\n",
    "ct = make_column_transformer(\n",
    "(ohe, [False, True, True, False])# if you have null values it will give and error. You must first fill those values before doing an ohe\n",
    ")\n",
    "\n",
    "# fit_transform the columns\n",
    "X_transformed = ct.fit_transform(X) \n",
    "X_transformed\n",
    "\n",
    "#------------------------------------------------------------\n",
    "# create the pipeline and select the columns using make_column_selector and regex\n",
    "\n",
    "print(\"Select the column using using make_column_selector and regex. New in pandas 0.22\")\n",
    "\n",
    "ct = make_column_transformer(\n",
    "(ohe, make_column_selector(pattern = \"E|S\"))# if you have null values it will give and error. You must first fill those values before doing an ohe\n",
    ")\n",
    "\n",
    "# fit_transform the columns\n",
    "X_transformed = ct.fit_transform(X) \n",
    "X_transformed\n",
    "\n",
    "#------------------------------------------------------------\n",
    "# create the pipeline and select the columns using make_column_selector and dtype_include\n",
    "\n",
    "print(\"Select the column using using make_column_selector and dtype_include. New in pandas 0.22\")\n",
    "\n",
    "ct = make_column_transformer(\n",
    "(ohe, make_column_selector(dtype_include = object))# if you have null values it will give and error. You must first fill those values before doing an ohe\n",
    ")\n",
    "\n",
    "# fit_transform the columns\n",
    "X_transformed = ct.fit_transform(X) \n",
    "X_transformed\n",
    "\n",
    "#------------------------------------------------------------\n",
    "# create the pipeline and select the columns using make_column_selector and dtype_exclude\n",
    "\n",
    "print(\"Select the column using using make_column_selector and dtype_exclude. New in pandas 0.22\")\n",
    "\n",
    "ct = make_column_transformer(\n",
    "(ohe, make_column_selector(dtype_exclude = \"number\"))# if you have null values it will give and error. You must first fill those values before doing an ohe\n",
    ")\n",
    "\n",
    "# fit_transform the columns\n",
    "X_transformed = ct.fit_transform(X) \n",
    "X_transformed"
   ]
  },
  {
   "cell_type": "markdown",
   "execution_count": null,
   "metadata": {},
   "source": [
    "<a id = \"trick1\"></a>\n",
    "# Trick 1: Using ColumnTransformer to manipulate different columns\n",
    "[Go back to the Table of Contents](#table_of_contents)"
   ]
  },
  {
   "cell_type": "code",
   "execution_count": 33,
   "metadata": {},
   "outputs": [
    {
     "data": {
      "text/html": [
       "<div>\n",
       "<style scoped>\n",
       "    .dataframe tbody tr th:only-of-type {\n",
       "        vertical-align: middle;\n",
       "    }\n",
       "\n",
       "    .dataframe tbody tr th {\n",
       "        vertical-align: top;\n",
       "    }\n",
       "\n",
       "    .dataframe thead th {\n",
       "        text-align: right;\n",
       "    }\n",
       "</style>\n",
       "<table border=\"1\" class=\"dataframe\">\n",
       "  <thead>\n",
       "    <tr style=\"text-align: right;\">\n",
       "      <th></th>\n",
       "      <th>PassengerId</th>\n",
       "      <th>Survived</th>\n",
       "      <th>Pclass</th>\n",
       "      <th>Name</th>\n",
       "      <th>Sex</th>\n",
       "      <th>Age</th>\n",
       "      <th>SibSp</th>\n",
       "      <th>Parch</th>\n",
       "      <th>Ticket</th>\n",
       "      <th>Fare</th>\n",
       "      <th>Cabin</th>\n",
       "      <th>Embarked</th>\n",
       "    </tr>\n",
       "  </thead>\n",
       "  <tbody>\n",
       "    <tr>\n",
       "      <th>0</th>\n",
       "      <td>1</td>\n",
       "      <td>0</td>\n",
       "      <td>3</td>\n",
       "      <td>Braund, Mr. Owen Harris</td>\n",
       "      <td>male</td>\n",
       "      <td>22.0</td>\n",
       "      <td>1</td>\n",
       "      <td>0</td>\n",
       "      <td>A/5 21171</td>\n",
       "      <td>7.2500</td>\n",
       "      <td>NaN</td>\n",
       "      <td>S</td>\n",
       "    </tr>\n",
       "    <tr>\n",
       "      <th>1</th>\n",
       "      <td>2</td>\n",
       "      <td>1</td>\n",
       "      <td>1</td>\n",
       "      <td>Cumings, Mrs. John Bradley (Florence Briggs Th...</td>\n",
       "      <td>female</td>\n",
       "      <td>38.0</td>\n",
       "      <td>1</td>\n",
       "      <td>0</td>\n",
       "      <td>PC 17599</td>\n",
       "      <td>71.2833</td>\n",
       "      <td>C85</td>\n",
       "      <td>C</td>\n",
       "    </tr>\n",
       "    <tr>\n",
       "      <th>2</th>\n",
       "      <td>3</td>\n",
       "      <td>1</td>\n",
       "      <td>3</td>\n",
       "      <td>Heikkinen, Miss. Laina</td>\n",
       "      <td>female</td>\n",
       "      <td>26.0</td>\n",
       "      <td>0</td>\n",
       "      <td>0</td>\n",
       "      <td>STON/O2. 3101282</td>\n",
       "      <td>7.9250</td>\n",
       "      <td>NaN</td>\n",
       "      <td>S</td>\n",
       "    </tr>\n",
       "    <tr>\n",
       "      <th>3</th>\n",
       "      <td>4</td>\n",
       "      <td>1</td>\n",
       "      <td>1</td>\n",
       "      <td>Futrelle, Mrs. Jacques Heath (Lily May Peel)</td>\n",
       "      <td>female</td>\n",
       "      <td>35.0</td>\n",
       "      <td>1</td>\n",
       "      <td>0</td>\n",
       "      <td>113803</td>\n",
       "      <td>53.1000</td>\n",
       "      <td>C123</td>\n",
       "      <td>S</td>\n",
       "    </tr>\n",
       "    <tr>\n",
       "      <th>4</th>\n",
       "      <td>5</td>\n",
       "      <td>0</td>\n",
       "      <td>3</td>\n",
       "      <td>Allen, Mr. William Henry</td>\n",
       "      <td>male</td>\n",
       "      <td>35.0</td>\n",
       "      <td>0</td>\n",
       "      <td>0</td>\n",
       "      <td>373450</td>\n",
       "      <td>8.0500</td>\n",
       "      <td>NaN</td>\n",
       "      <td>S</td>\n",
       "    </tr>\n",
       "  </tbody>\n",
       "</table>\n",
       "</div>"
      ],
      "text/plain": [
       "   PassengerId  Survived  Pclass  \\\n",
       "0            1         0       3   \n",
       "1            2         1       1   \n",
       "2            3         1       3   \n",
       "3            4         1       1   \n",
       "4            5         0       3   \n",
       "\n",
       "                                                Name     Sex   Age  SibSp  \\\n",
       "0                            Braund, Mr. Owen Harris    male  22.0      1   \n",
       "1  Cumings, Mrs. John Bradley (Florence Briggs Th...  female  38.0      1   \n",
       "2                             Heikkinen, Miss. Laina  female  26.0      0   \n",
       "3       Futrelle, Mrs. Jacques Heath (Lily May Peel)  female  35.0      1   \n",
       "4                           Allen, Mr. William Henry    male  35.0      0   \n",
       "\n",
       "   Parch            Ticket     Fare Cabin Embarked  \n",
       "0      0         A/5 21171   7.2500   NaN        S  \n",
       "1      0          PC 17599  71.2833   C85        C  \n",
       "2      0  STON/O2. 3101282   7.9250   NaN        S  \n",
       "3      0            113803  53.1000  C123        S  \n",
       "4      0            373450   8.0500   NaN        S  "
      ]
     },
     "execution_count": 33,
     "metadata": {},
     "output_type": "execute_result"
    },
    {
     "data": {
      "text/html": [
       "<div>\n",
       "<style scoped>\n",
       "    .dataframe tbody tr th:only-of-type {\n",
       "        vertical-align: middle;\n",
       "    }\n",
       "\n",
       "    .dataframe tbody tr th {\n",
       "        vertical-align: top;\n",
       "    }\n",
       "\n",
       "    .dataframe thead th {\n",
       "        text-align: right;\n",
       "    }\n",
       "</style>\n",
       "<table border=\"1\" class=\"dataframe\">\n",
       "  <thead>\n",
       "    <tr style=\"text-align: right;\">\n",
       "      <th></th>\n",
       "      <th>Fare</th>\n",
       "      <th>Embarked</th>\n",
       "      <th>Sex</th>\n",
       "      <th>Age</th>\n",
       "    </tr>\n",
       "  </thead>\n",
       "  <tbody>\n",
       "    <tr>\n",
       "      <th>0</th>\n",
       "      <td>7.2500</td>\n",
       "      <td>S</td>\n",
       "      <td>male</td>\n",
       "      <td>NaN</td>\n",
       "    </tr>\n",
       "    <tr>\n",
       "      <th>1</th>\n",
       "      <td>71.2833</td>\n",
       "      <td>C</td>\n",
       "      <td>female</td>\n",
       "      <td>38.0</td>\n",
       "    </tr>\n",
       "    <tr>\n",
       "      <th>2</th>\n",
       "      <td>7.9250</td>\n",
       "      <td>S</td>\n",
       "      <td>female</td>\n",
       "      <td>26.0</td>\n",
       "    </tr>\n",
       "    <tr>\n",
       "      <th>3</th>\n",
       "      <td>53.1000</td>\n",
       "      <td>S</td>\n",
       "      <td>female</td>\n",
       "      <td>35.0</td>\n",
       "    </tr>\n",
       "    <tr>\n",
       "      <th>4</th>\n",
       "      <td>8.0500</td>\n",
       "      <td>S</td>\n",
       "      <td>male</td>\n",
       "      <td>35.0</td>\n",
       "    </tr>\n",
       "  </tbody>\n",
       "</table>\n",
       "</div>"
      ],
      "text/plain": [
       "      Fare Embarked     Sex   Age\n",
       "0   7.2500        S    male   NaN\n",
       "1  71.2833        C  female  38.0\n",
       "2   7.9250        S  female  26.0\n",
       "3  53.1000        S  female  35.0\n",
       "4   8.0500        S    male  35.0"
      ]
     },
     "execution_count": 33,
     "metadata": {},
     "output_type": "execute_result"
    },
    {
     "data": {
      "text/plain": [
       "array([[ 0.    ,  1.    ,  0.    ,  1.    , 33.5   ,  7.25  ],\n",
       "       [ 1.    ,  0.    ,  1.    ,  0.    , 38.    , 71.2833],\n",
       "       [ 0.    ,  1.    ,  1.    ,  0.    , 26.    ,  7.925 ],\n",
       "       [ 0.    ,  1.    ,  1.    ,  0.    , 35.    , 53.1   ],\n",
       "       [ 0.    ,  1.    ,  0.    ,  1.    , 35.    ,  8.05  ]])"
      ]
     },
     "execution_count": 33,
     "metadata": {},
     "output_type": "execute_result"
    }
   ],
   "source": [
    "#------------------------------------------------------------\n",
    "# import data\n",
    "df = pd.read_csv(\"/kaggle/input/titanic/train.csv\")\n",
    "df.head()\n",
    "\n",
    "#------------------------------------------------------------\n",
    "# select columns to transform\n",
    "X = df[[\"Fare\", \"Embarked\", \"Sex\", \"Age\"]].head()\n",
    "X[\"Age\"].iloc[0] = np.nan # create a missing values\n",
    "X\n",
    "\n",
    "#------------------------------------------------------------\n",
    "# import the libraries\n",
    "from sklearn.preprocessing import OneHotEncoder\n",
    "from sklearn.impute import SimpleImputer\n",
    "from sklearn.compose import make_column_transformer\n",
    "\n",
    "#------------------------------------------------------------\n",
    "# instanciate the classes\n",
    "ohe = OneHotEncoder()\n",
    "imp = SimpleImputer()\n",
    "\n",
    "#------------------------------------------------------------\n",
    "# create the pipeline\n",
    "ct = make_column_transformer(\n",
    "(ohe, [\"Embarked\", \"Sex\"]), # if you have null values it will give and error. You must first fill those values before doing an ohe\n",
    "(imp, [\"Age\"]), \n",
    "remainder = \"passthrough\" # this means that the column Fare will appear the last one.\n",
    ")\n",
    "\n",
    "#------------------------------------------------------------\n",
    "# fit_transform the columns\n",
    "X_transformed = ct.fit_transform(X) \n",
    "X_transformed"
   ]
  },
  {
   "cell_type": "markdown",
   "execution_count": null,
   "metadata": {},
   "source": [
    "# The End\n",
    "# Thanks a lot. If you made till the end you have learned a lot of sklearn"
   ]
  }
 ],
 "metadata": {
  "kernelspec": {
   "display_name": "Python 3",
   "language": "python",
   "name": "python3"
  },
  "language_info": {
   "codemirror_mode": {
    "name": "ipython",
    "version": 3
   },
   "file_extension": ".py",
   "mimetype": "text/x-python",
   "name": "python",
   "nbconvert_exporter": "python",
   "pygments_lexer": "ipython3",
   "version": "3.6.6"
  }
 },
 "nbformat": 4,
 "nbformat_minor": 4
}
